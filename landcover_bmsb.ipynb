{
 "cells": [
  {
   "cell_type": "code",
   "execution_count": 1,
   "metadata": {},
   "outputs": [],
   "source": [
    "import requests\n",
    "import arcpy\n",
    "import pandas as pd"
   ]
  },
  {
   "cell_type": "code",
   "execution_count": 2,
   "metadata": {},
   "outputs": [],
   "source": [
    "directory = r\"C:\\Mac\\Home\\Documents\\ArcGIS\\Projects\\GIS5572\\bmsb\\bmsb.gdb\""
   ]
  },
  {
   "cell_type": "code",
   "execution_count": 3,
   "metadata": {},
   "outputs": [
    {
     "name": "stdout",
     "output_type": "stream",
     "text": [
      "Coordinate Systems Match\n"
     ]
    }
   ],
   "source": [
    "landcover_raw= \"C:\\Mac\\Home\\Documents\\ArcGIS\\Projects\\GIS5572\\Lab2\\MN_NLCD_2019\\MN_NLCD_2019_Land_Cover.tif\"\n",
    "\n",
    "# Check SRS\n",
    "def check_sr(in_raster, in_sr):\n",
    "    sr = arcpy.Describe(in_raster).spatialReference\n",
    "    in_sr_code = arcpy.SpatialReference(in_sr)\n",
    "    \n",
    "    if sr.factoryCode == in_sr_code.factoryCode:\n",
    "        print(\"Coordinate Systems Match\")\n",
    "        \n",
    "    else:\n",
    "        print(\"Coordinate Systems Do Not Match\")\n",
    "        print(f\"Actual Coordinate System is: {sr.factoryCode}\")\n",
    "\n",
    "check_sr(landcover_raw, 26915)"
   ]
  },
  {
   "cell_type": "code",
   "execution_count": 4,
   "metadata": {},
   "outputs": [
    {
     "name": "stdout",
     "output_type": "stream",
     "text": [
      "-112390.0 801260.0 5566390.0 4600900.0\n",
      "Raster is not Within Bounding Box\n"
     ]
    }
   ],
   "source": [
    "# Check Bounding Box\n",
    "def check_box(in_raster, ymin, ymax, xmin, xmax):\n",
    "    \n",
    "    left = float(arcpy.management.GetRasterProperties(in_raster, \"LEFT\").getOutput(0))\n",
    "    right = float(arcpy.management.GetRasterProperties(in_raster,\"RIGHT\").getOutput(0))\n",
    "    top = float(arcpy.management.GetRasterProperties(in_raster, \"TOP\").getOutput(0))\n",
    "    bottom = float(arcpy.management.GetRasterProperties(in_raster,\"BOTTOM\").getOutput(0))\n",
    "    \n",
    "    print(left, right , top , bottom)\n",
    "    \n",
    "    if left < xmin or right > xmax or top > ymax or bottom < ymin:\n",
    "        print(\"Raster is not Within Bounding Box\")\n",
    "    \n",
    "    else: \n",
    "        print(\"Raster is Within Bounding Box\")\n",
    "        \n",
    "check_box(landcover_raw, 4770648.492016879, 5490732.38301064, 133186.3828544069, 789594.190423549)"
   ]
  },
  {
   "cell_type": "code",
   "execution_count": 5,
   "metadata": {},
   "outputs": [
    {
     "data": {
      "text/html": [
       "<div class='gpresult'><h2>Messages</h2><div id='messages'>Start Time: Tuesday, April 1, 2025 10:57:17 AM<br>Building Pyramids...<br>Succeeded at Tuesday, April 1, 2025 10:59:03 AM (Elapsed Time: 1 minutes 46 seconds)<br></div><div id = 'default' /></div></div>"
      ],
      "text/plain": [
       "<Result 'C:\\\\Mac\\\\Home\\\\Documents\\\\ArcGIS\\\\Projects\\\\GIS5572\\\\bmsb\\\\bmsb.gdb\\\\landcover_Clip'>"
      ]
     },
     "execution_count": 5,
     "metadata": {},
     "output_type": "execute_result"
    }
   ],
   "source": [
    "arcpy.management.Clip(\n",
    "    in_raster=r\"C:\\Mac\\Home\\Documents\\ArcGIS\\Projects\\GIS5572\\Lab2\\Lab2.gdb\\landcover\",\n",
    "    rectangle=\"190687.908114248 4816425.97098429 758772.057946726 5471006.46677986\",\n",
    "    out_raster=r\"C:\\Mac\\Home\\Documents\\ArcGIS\\Projects\\GIS5572\\bmsb\\bmsb.gdb\\landcover_Clip\",\n",
    "    in_template_dataset=r\"C:\\Mac\\Home\\Documents\\ArcGIS\\Projects\\GIS5572\\Lab2\\Lab2.gdb\\state_of_minnesota\",\n",
    "    nodata_value=\"255\",\n",
    "    clipping_geometry=\"ClippingGeometry\",\n",
    "    maintain_clipping_extent=\"NO_MAINTAIN_EXTENT\"\n",
    ")"
   ]
  },
  {
   "cell_type": "code",
   "execution_count": 6,
   "metadata": {},
   "outputs": [
    {
     "data": {
      "text/html": [
       "<div class='gpresult'><h2>Messages</h2><div id='messages'>Start Time: Tuesday, April 1, 2025 10:59:04 AM<br>Succeeded at Tuesday, April 1, 2025 11:00:11 AM (Elapsed Time: 1 minutes 6 seconds)<br></div><div id = 'default' /></div></div>"
      ],
      "text/plain": [
       "<Result 'C:\\\\Mac\\\\Home\\\\Documents\\\\ArcGIS\\\\Projects\\\\GIS5572\\\\bmsb\\\\bmsb.gdb\\\\land_reclass5'>"
      ]
     },
     "execution_count": 6,
     "metadata": {},
     "output_type": "execute_result"
    }
   ],
   "source": [
    "arcpy.ddd.Reclassify(\n",
    "    in_raster=r\"C:\\Mac\\Home\\Documents\\ArcGIS\\Projects\\GIS5572\\bmsb\\bmsb.gdb\\landcover_Clip\",\n",
    "    reclass_field=\"VALUE\",\n",
    "    remap=\"11 5;21 4;22 4;23 4;24 4;31 4;41 2;42 2;43 2;52 2;71 2;81 3;82 3;90 1;95 1\",\n",
    "    out_raster=r\"C:\\Mac\\Home\\Documents\\ArcGIS\\Projects\\GIS5572\\bmsb\\bmsb.gdb\\land_reclass5\",\n",
    "    missing_values=\"DATA\"\n",
    ")"
   ]
  },
  {
   "cell_type": "code",
   "execution_count": 7,
   "metadata": {},
   "outputs": [
    {
     "data": {
      "text/html": [
       "<div class='gpresult'><h2>Messages</h2><div id='messages'>Start Time: Tuesday, April 1, 2025 11:00:11 AM<br>Successfully converted:  C:\\\\Mac\\\\Home\\\\Documents\\\\ArcGIS\\\\Projects\\\\GIS5572\\\\bmsb\\\\bmsb.gdb\\\\land_reclass5 To C:\\\\Mac\\\\Home\\\\Documents\\\\ArcGIS\\\\Projects\\\\GIS5572\\\\bmsb\\\\bmsb.gdb\\\\land_reclass5_1<br>Succeeded at Tuesday, April 1, 2025 11:01:31 AM (Elapsed Time: 1 minutes 20 seconds)<br></div><div id = 'default' /></div></div>"
      ],
      "text/plain": [
       "<Result ''>"
      ]
     },
     "execution_count": 7,
     "metadata": {},
     "output_type": "execute_result"
    }
   ],
   "source": [
    "arcpy.conversion.RasterToGeodatabase(\n",
    "    Input_Rasters=r\"C:\\Mac\\Home\\Documents\\ArcGIS\\Projects\\GIS5572\\bmsb\\bmsb.gdb\\land_reclass5\",\n",
    "    Output_Geodatabase=r\"C:\\Mac\\Home\\Documents\\ArcGIS\\Projects\\GIS5572\\bmsb\\bmsb.gdb\",\n",
    "    Configuration_Keyword=\"\"\n",
    ")"
   ]
  },
  {
   "cell_type": "code",
   "execution_count": 8,
   "metadata": {},
   "outputs": [
    {
     "data": {
      "text/html": [
       "<div class='gpresult'><h2>Messages</h2><div id='messages'>Start Time: Tuesday, April 1, 2025 11:01:32 AM<br>Building Pyramids...<br>Succeeded at Tuesday, April 1, 2025 11:01:54 AM (Elapsed Time: 21.91 seconds)<br></div><div id = 'default' /></div></div>"
      ],
      "text/plain": [
       "<Result 'C:\\\\Mac\\\\Home\\\\Documents\\\\ArcGIS\\\\Projects\\\\GIS5572\\\\bmsb\\\\bmsb.gdb\\\\land_reclass5_Resample1k'>"
      ]
     },
     "execution_count": 8,
     "metadata": {},
     "output_type": "execute_result"
    }
   ],
   "source": [
    "arcpy.management.Resample(\n",
    "    in_raster=r\"C:\\Mac\\Home\\Documents\\ArcGIS\\Projects\\GIS5572\\bmsb\\bmsb.gdb\\land_reclass5\",\n",
    "    out_raster=r\"C:\\Mac\\Home\\Documents\\ArcGIS\\Projects\\GIS5572\\bmsb\\bmsb.gdb\\land_reclass5_Resample1k\",\n",
    "    cell_size=\"1000 1000\",\n",
    "    resampling_type=\"NEAREST\"\n",
    ")"
   ]
  },
  {
   "cell_type": "code",
   "execution_count": 9,
   "metadata": {},
   "outputs": [
    {
     "data": {
      "text/html": [
       "<div class='gpresult'><h2>Messages</h2><div id='messages'>Start Time: Tuesday, April 1, 2025 11:01:54 AM<br>Succeeded at Tuesday, April 1, 2025 11:02:15 AM (Elapsed Time: 21.00 seconds)<br></div><div id = 'default' /></div></div>"
      ],
      "text/plain": [
       "<Result 'C:\\\\Mac\\\\Home\\\\Documents\\\\ArcGIS\\\\Projects\\\\GIS5572\\\\bmsb\\\\bmsb.gdb\\\\lc_point'>"
      ]
     },
     "execution_count": 9,
     "metadata": {},
     "output_type": "execute_result"
    }
   ],
   "source": [
    "arcpy.conversion.RasterToPoint(\n",
    "    in_raster=r\"C:\\Mac\\Home\\Documents\\ArcGIS\\Projects\\GIS5572\\bmsb\\bmsb.gdb\\land_reclass5_Resample1k\",\n",
    "    out_point_features=r\"C:\\Mac\\Home\\Documents\\ArcGIS\\Projects\\GIS5572\\bmsb\\bmsb.gdb\\lc_point\",\n",
    "    raster_field=\"Value\"\n",
    ")\n"
   ]
  },
  {
   "cell_type": "code",
   "execution_count": 10,
   "metadata": {},
   "outputs": [
    {
     "data": {
      "text/html": [
       "<div class='gpresult'><h2>Messages</h2><div id='messages'>Start Time: Tuesday, April 1, 2025 11:02:16 AM<br>C:\\\\Mac\\\\Home\\\\Documents\\\\ArcGIS\\\\Projects\\\\misc\\\\ctus_with_id\\\\ctus_with_id.shp Successfully converted:  C:\\\\Mac\\\\Home\\\\Documents\\\\ArcGIS\\\\Projects\\\\GIS5572\\\\bmsb\\\\bmsb.gdb\\\\ctus_with_id<br>Succeeded at Tuesday, April 1, 2025 11:02:21 AM (Elapsed Time: 5.60 seconds)<br></div><div id = 'default' /></div></div>"
      ],
      "text/plain": [
       "<Result 'C:\\\\Mac\\\\Home\\\\Documents\\\\ArcGIS\\\\Projects\\\\GIS5572\\\\bmsb\\\\bmsb.gdb'>"
      ]
     },
     "execution_count": 10,
     "metadata": {},
     "output_type": "execute_result"
    }
   ],
   "source": [
    "arcpy.conversion.FeatureClassToGeodatabase(\n",
    "    Input_Features=r\"C:\\Mac\\Home\\Documents\\ArcGIS\\Projects\\misc\\ctus_with_id\\ctus_with_id.shp\",\n",
    "    Output_Geodatabase=r\"C:\\Mac\\Home\\Documents\\ArcGIS\\Projects\\GIS5572\\bmsb\\bmsb.gdb\"\n",
    ")"
   ]
  },
  {
   "cell_type": "code",
   "execution_count": 11,
   "metadata": {},
   "outputs": [
    {
     "data": {
      "text/html": [
       "<div class='gpresult'><h2>Messages</h2><div id='messages'>Start Time: Tuesday, April 1, 2025 11:02:23 AM<br>Succeeded at Tuesday, April 1, 2025 11:07:06 AM (Elapsed Time: 4 minutes 43 seconds)<br></div><div id = 'default' /></div></div>"
      ],
      "text/plain": [
       "<Result 'C:\\\\Mac\\\\Home\\\\Documents\\\\ArcGIS\\\\Projects\\\\GIS5572\\\\bmsb\\\\bmsb.gdb\\\\ctus_nlcd_SummarizeWithin'>"
      ]
     },
     "execution_count": 11,
     "metadata": {},
     "output_type": "execute_result"
    }
   ],
   "source": [
    "arcpy.analysis.SummarizeWithin(\n",
    "    in_polygons=\"ctus_with_id\",\n",
    "    in_sum_features=\"lc_point\",\n",
    "    out_feature_class=r\"C:\\Mac\\Home\\Documents\\ArcGIS\\Projects\\GIS5572\\bmsb\\bmsb.gdb\\ctus_nlcd_SummarizeWithin\",\n",
    "    keep_all_polygons=\"KEEP_ALL\",\n",
    "    sum_fields=\"grid_code Mean\",\n",
    "    sum_shape=\"ADD_SHAPE_SUM\",\n",
    "    shape_unit=\"SQUAREKILOMETERS\",\n",
    "    group_field=\"grid_code\",\n",
    "    add_min_maj=\"NO_MIN_MAJ\",\n",
    "    add_group_percent=\"ADD_PERCENT\",\n",
    "    out_group_table=r\"C:\\Mac\\Home\\Documents\\ArcGIS\\Projects\\GIS5572\\bmsb\\bmsb.gdb\\ncld_ctu_summary\"\n",
    ")"
   ]
  },
  {
   "cell_type": "code",
   "execution_count": 12,
   "metadata": {},
   "outputs": [
    {
     "data": {
      "text/html": [
       "<div class='gpresult'><h2>Messages</h2><div id='messages'>Start Time: Tuesday, April 1, 2025 11:13:17 AM<br>Adding lc_class to ncld_ctu_summary...<br>Succeeded at Tuesday, April 1, 2025 11:13:20 AM (Elapsed Time: 2.88 seconds)<br></div><div id = 'default' /></div></div>"
      ],
      "text/plain": [
       "<Result 'ncld_ctu_summary'>"
      ]
     },
     "execution_count": 12,
     "metadata": {},
     "output_type": "execute_result"
    }
   ],
   "source": [
    "arcpy.management.AddField(\n",
    "    in_table=\"ncld_ctu_summary\",\n",
    "    field_name=\"lc_class\",\n",
    "    field_type=\"TEXT\",\n",
    "    field_precision=None,\n",
    "    field_scale=None,\n",
    "    field_length=255,\n",
    "    field_alias=\"\",\n",
    "    field_is_nullable=\"NULLABLE\",\n",
    "    field_is_required=\"NON_REQUIRED\",\n",
    "    field_domain=\"\"\n",
    ")"
   ]
  },
  {
   "cell_type": "code",
   "execution_count": 13,
   "metadata": {},
   "outputs": [],
   "source": [
    "standalone_table = \"ncld_ctu_summary\" \n",
    "\n",
    "\n",
    "land_cover_dict = {\n",
    "    1: \"Wetlands\",\n",
    "    2: \"Forest\",\n",
    "    3: \"Agriculture\",\n",
    "    4: \"Developed\",\n",
    "    5: \"Water\"\n",
    "}\n",
    "\n",
    "with arcpy.da.UpdateCursor(standalone_table, [\"grid_code\", \"lc_class\"]) as cursor:\n",
    "    for row in cursor:\n",
    "        grid_code = row[0]\n",
    "        if grid_code in land_cover_dict:\n",
    "            row[1] = land_cover_dict[grid_code]\n",
    "            cursor.updateRow(row)"
   ]
  },
  {
   "cell_type": "code",
   "execution_count": null,
   "metadata": {},
   "outputs": [],
   "source": []
  }
 ],
 "metadata": {
  "kernelspec": {
   "display_name": "ArcGISPro",
   "language": "Python",
   "name": "python3"
  },
  "language_info": {
   "file_extension": ".py",
   "name": "python",
   "version": "3"
  }
 },
 "nbformat": 4,
 "nbformat_minor": 2
}
