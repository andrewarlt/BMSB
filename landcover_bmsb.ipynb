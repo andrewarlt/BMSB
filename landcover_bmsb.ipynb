{
 "cells": [
  {
   "cell_type": "code",
   "execution_count": 25,
   "metadata": {},
   "outputs": [],
   "source": [
    "import requests\n",
    "import arcpy\n",
    "import pandas as pd\n",
    "import os\n",
    "import numpy as np"
   ]
  },
  {
   "cell_type": "code",
   "execution_count": 2,
   "metadata": {},
   "outputs": [],
   "source": [
    "directory = r\"C:\\Mac\\Home\\Documents\\ArcGIS\\Projects\\GIS5572\\bmsb\\bmsb.gdb\""
   ]
  },
  {
   "cell_type": "code",
   "execution_count": 3,
   "metadata": {},
   "outputs": [
    {
     "name": "stdout",
     "output_type": "stream",
     "text": [
      "Coordinate Systems Match\n"
     ]
    }
   ],
   "source": [
    "landcover_raw= \"C:\\Mac\\Home\\Documents\\ArcGIS\\Projects\\GIS5572\\Lab2\\MN_NLCD_2019\\MN_NLCD_2019_Land_Cover.tif\"\n",
    "\n",
    "# Check SRS\n",
    "def check_sr(in_raster, in_sr):\n",
    "    sr = arcpy.Describe(in_raster).spatialReference\n",
    "    in_sr_code = arcpy.SpatialReference(in_sr)\n",
    "    \n",
    "    if sr.factoryCode == in_sr_code.factoryCode:\n",
    "        print(\"Coordinate Systems Match\")\n",
    "        \n",
    "    else:\n",
    "        print(\"Coordinate Systems Do Not Match\")\n",
    "        print(f\"Actual Coordinate System is: {sr.factoryCode}\")\n",
    "\n",
    "check_sr(landcover_raw, 26915)"
   ]
  },
  {
   "cell_type": "code",
   "execution_count": 4,
   "metadata": {},
   "outputs": [
    {
     "name": "stdout",
     "output_type": "stream",
     "text": [
      "-112390.0 801260.0 5566390.0 4600900.0\n",
      "Raster is not Within Bounding Box\n"
     ]
    }
   ],
   "source": [
    "# Check Bounding Box\n",
    "def check_box(in_raster, ymin, ymax, xmin, xmax):\n",
    "    \n",
    "    left = float(arcpy.management.GetRasterProperties(in_raster, \"LEFT\").getOutput(0))\n",
    "    right = float(arcpy.management.GetRasterProperties(in_raster,\"RIGHT\").getOutput(0))\n",
    "    top = float(arcpy.management.GetRasterProperties(in_raster, \"TOP\").getOutput(0))\n",
    "    bottom = float(arcpy.management.GetRasterProperties(in_raster,\"BOTTOM\").getOutput(0))\n",
    "    \n",
    "    print(left, right , top , bottom)\n",
    "    \n",
    "    if left < xmin or right > xmax or top > ymax or bottom < ymin:\n",
    "        print(\"Raster is not Within Bounding Box\")\n",
    "    \n",
    "    else: \n",
    "        print(\"Raster is Within Bounding Box\")\n",
    "        \n",
    "check_box(landcover_raw, 4770648.492016879, 5490732.38301064, 133186.3828544069, 789594.190423549)"
   ]
  },
  {
   "cell_type": "code",
   "execution_count": 5,
   "metadata": {},
   "outputs": [
    {
     "data": {
      "text/html": [
       "<div class='gpresult'><h2>Messages</h2><div id='messages'>Start Time: Tuesday, April 1, 2025 10:57:17 AM<br>Building Pyramids...<br>Succeeded at Tuesday, April 1, 2025 10:59:03 AM (Elapsed Time: 1 minutes 46 seconds)<br></div><div id = 'default' /></div></div>"
      ],
      "text/plain": [
       "<Result 'C:\\\\Mac\\\\Home\\\\Documents\\\\ArcGIS\\\\Projects\\\\GIS5572\\\\bmsb\\\\bmsb.gdb\\\\landcover_Clip'>"
      ]
     },
     "execution_count": 5,
     "metadata": {},
     "output_type": "execute_result"
    }
   ],
   "source": [
    "arcpy.management.Clip(\n",
    "    in_raster=r\"C:\\Mac\\Home\\Documents\\ArcGIS\\Projects\\GIS5572\\Lab2\\Lab2.gdb\\landcover\",\n",
    "    rectangle=\"190687.908114248 4816425.97098429 758772.057946726 5471006.46677986\",\n",
    "    out_raster=r\"C:\\Mac\\Home\\Documents\\ArcGIS\\Projects\\GIS5572\\bmsb\\bmsb.gdb\\landcover_Clip\",\n",
    "    in_template_dataset=r\"C:\\Mac\\Home\\Documents\\ArcGIS\\Projects\\GIS5572\\Lab2\\Lab2.gdb\\state_of_minnesota\",\n",
    "    nodata_value=\"255\",\n",
    "    clipping_geometry=\"ClippingGeometry\",\n",
    "    maintain_clipping_extent=\"NO_MAINTAIN_EXTENT\"\n",
    ")"
   ]
  },
  {
   "cell_type": "code",
   "execution_count": 6,
   "metadata": {},
   "outputs": [
    {
     "data": {
      "text/html": [
       "<div class='gpresult'><h2>Messages</h2><div id='messages'>Start Time: Tuesday, April 1, 2025 10:59:04 AM<br>Succeeded at Tuesday, April 1, 2025 11:00:11 AM (Elapsed Time: 1 minutes 6 seconds)<br></div><div id = 'default' /></div></div>"
      ],
      "text/plain": [
       "<Result 'C:\\\\Mac\\\\Home\\\\Documents\\\\ArcGIS\\\\Projects\\\\GIS5572\\\\bmsb\\\\bmsb.gdb\\\\land_reclass5'>"
      ]
     },
     "execution_count": 6,
     "metadata": {},
     "output_type": "execute_result"
    }
   ],
   "source": [
    "arcpy.ddd.Reclassify(\n",
    "    in_raster=r\"C:\\Mac\\Home\\Documents\\ArcGIS\\Projects\\GIS5572\\bmsb\\bmsb.gdb\\landcover_Clip\",\n",
    "    reclass_field=\"VALUE\",\n",
    "    remap=\"11 5;21 4;22 4;23 4;24 4;31 4;41 2;42 2;43 2;52 2;71 2;81 3;82 3;90 1;95 1\",\n",
    "    out_raster=r\"C:\\Mac\\Home\\Documents\\ArcGIS\\Projects\\GIS5572\\bmsb\\bmsb.gdb\\land_reclass5\",\n",
    "    missing_values=\"DATA\"\n",
    ")"
   ]
  },
  {
   "cell_type": "code",
   "execution_count": 7,
   "metadata": {},
   "outputs": [
    {
     "data": {
      "text/html": [
       "<div class='gpresult'><h2>Messages</h2><div id='messages'>Start Time: Tuesday, April 1, 2025 11:00:11 AM<br>Successfully converted:  C:\\\\Mac\\\\Home\\\\Documents\\\\ArcGIS\\\\Projects\\\\GIS5572\\\\bmsb\\\\bmsb.gdb\\\\land_reclass5 To C:\\\\Mac\\\\Home\\\\Documents\\\\ArcGIS\\\\Projects\\\\GIS5572\\\\bmsb\\\\bmsb.gdb\\\\land_reclass5_1<br>Succeeded at Tuesday, April 1, 2025 11:01:31 AM (Elapsed Time: 1 minutes 20 seconds)<br></div><div id = 'default' /></div></div>"
      ],
      "text/plain": [
       "<Result ''>"
      ]
     },
     "execution_count": 7,
     "metadata": {},
     "output_type": "execute_result"
    }
   ],
   "source": [
    "arcpy.conversion.RasterToGeodatabase(\n",
    "    Input_Rasters=r\"C:\\Mac\\Home\\Documents\\ArcGIS\\Projects\\GIS5572\\bmsb\\bmsb.gdb\\land_reclass5\",\n",
    "    Output_Geodatabase=r\"C:\\Mac\\Home\\Documents\\ArcGIS\\Projects\\GIS5572\\bmsb\\bmsb.gdb\",\n",
    "    Configuration_Keyword=\"\"\n",
    ")"
   ]
  },
  {
   "cell_type": "code",
   "execution_count": 8,
   "metadata": {},
   "outputs": [
    {
     "data": {
      "text/html": [
       "<div class='gpresult'><h2>Messages</h2><div id='messages'>Start Time: Tuesday, April 1, 2025 11:01:32 AM<br>Building Pyramids...<br>Succeeded at Tuesday, April 1, 2025 11:01:54 AM (Elapsed Time: 21.91 seconds)<br></div><div id = 'default' /></div></div>"
      ],
      "text/plain": [
       "<Result 'C:\\\\Mac\\\\Home\\\\Documents\\\\ArcGIS\\\\Projects\\\\GIS5572\\\\bmsb\\\\bmsb.gdb\\\\land_reclass5_Resample1k'>"
      ]
     },
     "execution_count": 8,
     "metadata": {},
     "output_type": "execute_result"
    }
   ],
   "source": [
    "arcpy.management.Resample(\n",
    "    in_raster=r\"C:\\Mac\\Home\\Documents\\ArcGIS\\Projects\\GIS5572\\bmsb\\bmsb.gdb\\land_reclass5\",\n",
    "    out_raster=r\"C:\\Mac\\Home\\Documents\\ArcGIS\\Projects\\GIS5572\\bmsb\\bmsb.gdb\\land_reclass5_Resample1k\",\n",
    "    cell_size=\"1000 1000\",\n",
    "    resampling_type=\"NEAREST\"\n",
    ")"
   ]
  },
  {
   "cell_type": "code",
   "execution_count": 9,
   "metadata": {},
   "outputs": [
    {
     "data": {
      "text/html": [
       "<div class='gpresult'><h2>Messages</h2><div id='messages'>Start Time: Tuesday, April 1, 2025 11:01:54 AM<br>Succeeded at Tuesday, April 1, 2025 11:02:15 AM (Elapsed Time: 21.00 seconds)<br></div><div id = 'default' /></div></div>"
      ],
      "text/plain": [
       "<Result 'C:\\\\Mac\\\\Home\\\\Documents\\\\ArcGIS\\\\Projects\\\\GIS5572\\\\bmsb\\\\bmsb.gdb\\\\lc_point'>"
      ]
     },
     "execution_count": 9,
     "metadata": {},
     "output_type": "execute_result"
    }
   ],
   "source": [
    "arcpy.conversion.RasterToPoint(\n",
    "    in_raster=r\"C:\\Mac\\Home\\Documents\\ArcGIS\\Projects\\GIS5572\\bmsb\\bmsb.gdb\\land_reclass5_Resample1k\",\n",
    "    out_point_features=r\"C:\\Mac\\Home\\Documents\\ArcGIS\\Projects\\GIS5572\\bmsb\\bmsb.gdb\\lc_point\",\n",
    "    raster_field=\"Value\"\n",
    ")\n"
   ]
  },
  {
   "cell_type": "code",
   "execution_count": 10,
   "metadata": {},
   "outputs": [
    {
     "data": {
      "text/html": [
       "<div class='gpresult'><h2>Messages</h2><div id='messages'>Start Time: Tuesday, April 1, 2025 11:02:16 AM<br>C:\\\\Mac\\\\Home\\\\Documents\\\\ArcGIS\\\\Projects\\\\misc\\\\ctus_with_id\\\\ctus_with_id.shp Successfully converted:  C:\\\\Mac\\\\Home\\\\Documents\\\\ArcGIS\\\\Projects\\\\GIS5572\\\\bmsb\\\\bmsb.gdb\\\\ctus_with_id<br>Succeeded at Tuesday, April 1, 2025 11:02:21 AM (Elapsed Time: 5.60 seconds)<br></div><div id = 'default' /></div></div>"
      ],
      "text/plain": [
       "<Result 'C:\\\\Mac\\\\Home\\\\Documents\\\\ArcGIS\\\\Projects\\\\GIS5572\\\\bmsb\\\\bmsb.gdb'>"
      ]
     },
     "execution_count": 10,
     "metadata": {},
     "output_type": "execute_result"
    }
   ],
   "source": [
    "arcpy.conversion.FeatureClassToGeodatabase(\n",
    "    Input_Features=r\"C:\\Mac\\Home\\Documents\\ArcGIS\\Projects\\misc\\ctus_with_id\\ctus_with_id.shp\",\n",
    "    Output_Geodatabase=r\"C:\\Mac\\Home\\Documents\\ArcGIS\\Projects\\GIS5572\\bmsb\\bmsb.gdb\"\n",
    ")"
   ]
  },
  {
   "cell_type": "code",
   "execution_count": 11,
   "metadata": {},
   "outputs": [
    {
     "data": {
      "text/html": [
       "<div class='gpresult'><h2>Messages</h2><div id='messages'>Start Time: Tuesday, April 1, 2025 11:02:23 AM<br>Succeeded at Tuesday, April 1, 2025 11:07:06 AM (Elapsed Time: 4 minutes 43 seconds)<br></div><div id = 'default' /></div></div>"
      ],
      "text/plain": [
       "<Result 'C:\\\\Mac\\\\Home\\\\Documents\\\\ArcGIS\\\\Projects\\\\GIS5572\\\\bmsb\\\\bmsb.gdb\\\\ctus_nlcd_SummarizeWithin'>"
      ]
     },
     "execution_count": 11,
     "metadata": {},
     "output_type": "execute_result"
    }
   ],
   "source": [
    "arcpy.analysis.SummarizeWithin(\n",
    "    in_polygons=\"ctus_with_id\",\n",
    "    in_sum_features=\"lc_point\",\n",
    "    out_feature_class=r\"C:\\Mac\\Home\\Documents\\ArcGIS\\Projects\\GIS5572\\bmsb\\bmsb.gdb\\ctus_nlcd_SummarizeWithin\",\n",
    "    keep_all_polygons=\"KEEP_ALL\",\n",
    "    sum_fields=\"grid_code Mean\",\n",
    "    sum_shape=\"ADD_SHAPE_SUM\",\n",
    "    shape_unit=\"SQUAREKILOMETERS\",\n",
    "    group_field=\"grid_code\",\n",
    "    add_min_maj=\"NO_MIN_MAJ\",\n",
    "    add_group_percent=\"ADD_PERCENT\",\n",
    "    out_group_table=r\"C:\\Mac\\Home\\Documents\\ArcGIS\\Projects\\GIS5572\\bmsb\\bmsb.gdb\\ncld_ctu_summary\"\n",
    ")"
   ]
  },
  {
   "cell_type": "code",
   "execution_count": 12,
   "metadata": {},
   "outputs": [
    {
     "data": {
      "text/html": [
       "<div class='gpresult'><h2>Messages</h2><div id='messages'>Start Time: Tuesday, April 1, 2025 11:13:17 AM<br>Adding lc_class to ncld_ctu_summary...<br>Succeeded at Tuesday, April 1, 2025 11:13:20 AM (Elapsed Time: 2.88 seconds)<br></div><div id = 'default' /></div></div>"
      ],
      "text/plain": [
       "<Result 'ncld_ctu_summary'>"
      ]
     },
     "execution_count": 12,
     "metadata": {},
     "output_type": "execute_result"
    }
   ],
   "source": [
    "#Add landcover field\n",
    "arcpy.management.AddField(\n",
    "    in_table=\"ncld_ctu_summary\",\n",
    "    field_name=\"lc_class\",\n",
    "    field_type=\"TEXT\",\n",
    "    field_precision=None,\n",
    "    field_scale=None,\n",
    "    field_length=255,\n",
    "    field_alias=\"\",\n",
    "    field_is_nullable=\"NULLABLE\",\n",
    "    field_is_required=\"NON_REQUIRED\",\n",
    "    field_domain=\"\"\n",
    ")"
   ]
  },
  {
   "cell_type": "code",
   "execution_count": 13,
   "metadata": {},
   "outputs": [],
   "source": [
    "#Calculate landcover class field\n",
    "standalone_table = \"ncld_ctu_summary\" \n",
    "\n",
    "land_cover_dict = {\n",
    "    1: \"Wetlands\",\n",
    "    2: \"Forest\",\n",
    "    3: \"Agriculture\",\n",
    "    4: \"Developed\",\n",
    "    5: \"Water\"\n",
    "}\n",
    "\n",
    "with arcpy.da.UpdateCursor(standalone_table, [\"grid_code\", \"lc_class\"]) as cursor:\n",
    "    for row in cursor:\n",
    "        grid_code = row[0]\n",
    "        if grid_code in land_cover_dict:\n",
    "            row[1] = land_cover_dict[grid_code]\n",
    "            cursor.updateRow(row)"
   ]
  },
  {
   "cell_type": "markdown",
   "metadata": {},
   "source": [
    "## Combine Summarize Within tables (feature class and summary table)"
   ]
  },
  {
   "cell_type": "code",
   "execution_count": 90,
   "metadata": {
    "scrolled": true
   },
   "outputs": [],
   "source": [
    "# Convert the Summarize Within summary table to df \n",
    "summary_table = \"ncld_ctu_summary\"\n",
    "fields = [\"Join_ID\", \"lc_class\", \"PercentCount\"]\n",
    "\n",
    "# Read data into a list and convert to df\n",
    "data = [row for row in arcpy.da.SearchCursor(summary_table, fields)]\n",
    "df = pd.DataFrame(data, columns=[\"Join_ID\", \"lc_class\", \"PercentCount\"])\n",
    "\n",
    "# Pivot  table to get one row per Join ID with land cover percentages as columns\n",
    "df_pivot = df.pivot(index=\"Join_ID\", columns=\"lc_class\", values=\"PercentCount\").reset_index()\n",
    "\n",
    "# Fill NaN values with 0 \n",
    "df_pivot = df_pivot.fillna(0)\n"
   ]
  },
  {
   "cell_type": "code",
   "execution_count": 95,
   "metadata": {},
   "outputs": [],
   "source": [
    "# Convert the Summarize Within feature class table to df\n",
    "ctu_table = \"ctus_nlcd_SummarizeWithin\"\n",
    "ctu_fields = [\"Join_ID\", \"UNIQUE_ID\"]\n",
    "\n",
    "# Read data into a list and convert to df\n",
    "ctu_data = [row for row in arcpy.da.SearchCursor(ctu_table, ctu_fields)]\n",
    "df_ctu = pd.DataFrame(ctu_data, columns=[\"Join_ID\",\"Unique ID\"])\n",
    "\n"
   ]
  },
  {
   "cell_type": "code",
   "execution_count": 96,
   "metadata": {},
   "outputs": [],
   "source": [
    "# Merge pivoted table with  CTU summary table\n",
    "df_final = df_ctu.merge(df_pivot, on=\"Join_ID\", how=\"left\")\n",
    "df_final.rename(columns={np.nan: \"Unknown_Land_Cover\"}, inplace=True)"
   ]
  },
  {
   "cell_type": "code",
   "execution_count": 97,
   "metadata": {},
   "outputs": [
    {
     "name": "stdout",
     "output_type": "stream",
     "text": [
      "Column Name: Join_ID, Type: int64\n",
      "Column Name: Unique ID, Type: int64\n",
      "Column Name: Unknown_Land_Cover, Type: float64\n",
      "Column Name: Agriculture, Type: float64\n",
      "Column Name: Developed, Type: float64\n",
      "Column Name: Forest, Type: float64\n",
      "Column Name: Water, Type: float64\n",
      "Column Name: Wetlands, Type: float64\n"
     ]
    }
   ],
   "source": [
    "for column in df_final.columns:\n",
    "    print(f\"Column Name: {column}, Type: {df_final[column].dtype}\")"
   ]
  },
  {
   "cell_type": "code",
   "execution_count": 98,
   "metadata": {
    "scrolled": false
   },
   "outputs": [
    {
     "data": {
      "text/html": [
       "<div>\n",
       "<style scoped>\n",
       "    .dataframe tbody tr th:only-of-type {\n",
       "        vertical-align: middle;\n",
       "    }\n",
       "\n",
       "    .dataframe tbody tr th {\n",
       "        vertical-align: top;\n",
       "    }\n",
       "\n",
       "    .dataframe thead th {\n",
       "        text-align: right;\n",
       "    }\n",
       "</style>\n",
       "<table border=\"1\" class=\"dataframe\">\n",
       "  <thead>\n",
       "    <tr style=\"text-align: right;\">\n",
       "      <th></th>\n",
       "      <th>Join_ID</th>\n",
       "      <th>Unique ID</th>\n",
       "      <th>Unknown_Land_Cover</th>\n",
       "      <th>Agriculture</th>\n",
       "      <th>Developed</th>\n",
       "      <th>Forest</th>\n",
       "      <th>Water</th>\n",
       "      <th>Wetlands</th>\n",
       "    </tr>\n",
       "  </thead>\n",
       "  <tbody>\n",
       "    <tr>\n",
       "      <th>0</th>\n",
       "      <td>1</td>\n",
       "      <td>0</td>\n",
       "      <td>0.0</td>\n",
       "      <td>85.869565</td>\n",
       "      <td>1.086957</td>\n",
       "      <td>1.086957</td>\n",
       "      <td>4.347826</td>\n",
       "      <td>7.608696</td>\n",
       "    </tr>\n",
       "    <tr>\n",
       "      <th>1</th>\n",
       "      <td>2</td>\n",
       "      <td>1</td>\n",
       "      <td>0.0</td>\n",
       "      <td>79.012346</td>\n",
       "      <td>4.938272</td>\n",
       "      <td>4.938272</td>\n",
       "      <td>8.641975</td>\n",
       "      <td>2.469136</td>\n",
       "    </tr>\n",
       "    <tr>\n",
       "      <th>2</th>\n",
       "      <td>3</td>\n",
       "      <td>2</td>\n",
       "      <td>0.0</td>\n",
       "      <td>69.387755</td>\n",
       "      <td>5.102041</td>\n",
       "      <td>11.224490</td>\n",
       "      <td>7.142857</td>\n",
       "      <td>7.142857</td>\n",
       "    </tr>\n",
       "    <tr>\n",
       "      <th>3</th>\n",
       "      <td>4</td>\n",
       "      <td>3</td>\n",
       "      <td>0.0</td>\n",
       "      <td>0.000000</td>\n",
       "      <td>100.000000</td>\n",
       "      <td>0.000000</td>\n",
       "      <td>0.000000</td>\n",
       "      <td>0.000000</td>\n",
       "    </tr>\n",
       "    <tr>\n",
       "      <th>4</th>\n",
       "      <td>5</td>\n",
       "      <td>4</td>\n",
       "      <td>0.0</td>\n",
       "      <td>100.000000</td>\n",
       "      <td>0.000000</td>\n",
       "      <td>0.000000</td>\n",
       "      <td>0.000000</td>\n",
       "      <td>0.000000</td>\n",
       "    </tr>\n",
       "  </tbody>\n",
       "</table>\n",
       "</div>"
      ],
      "text/plain": [
       "   Join_ID  Unique ID  Unknown_Land_Cover  ...     Forest     Water  Wetlands\n",
       "0        1          0                 0.0  ...   1.086957  4.347826  7.608696\n",
       "1        2          1                 0.0  ...   4.938272  8.641975  2.469136\n",
       "2        3          2                 0.0  ...  11.224490  7.142857  7.142857\n",
       "3        4          3                 0.0  ...   0.000000  0.000000  0.000000\n",
       "4        5          4                 0.0  ...   0.000000  0.000000  0.000000\n",
       "\n",
       "[5 rows x 8 columns]"
      ]
     },
     "execution_count": 98,
     "metadata": {},
     "output_type": "execute_result"
    }
   ],
   "source": [
    "df_final.head()"
   ]
  },
  {
   "cell_type": "code",
   "execution_count": 99,
   "metadata": {},
   "outputs": [],
   "source": [
    "# Define structure for numpy array\n",
    "dtype_structure = [\n",
    "    (\"Join_ID\", \"i4\"),              \n",
    "    (\"Unique_ID\", \"i4\"),\n",
    "    (\"Unknown_Land_Cover\", \"f8\"),  \n",
    "    (\"Agriculture\", \"f8\"),\n",
    "    (\"Developed\", \"f8\"),\n",
    "    (\"Forest\", \"f8\"),\n",
    "    (\"Water\", \"f8\"),\n",
    "    (\"Wetlands\", \"f8\")\n",
    "]"
   ]
  },
  {
   "cell_type": "code",
   "execution_count": 100,
   "metadata": {},
   "outputs": [],
   "source": [
    "numpy_array = np.array(\n",
    "    [tuple(row) for row in df_final.itertuples(index=False)],\n",
    "    dtype=dtype_structure\n",
    ")"
   ]
  },
  {
   "cell_type": "code",
   "execution_count": 102,
   "metadata": {},
   "outputs": [
    {
     "name": "stdout",
     "output_type": "stream",
     "text": [
      "Final table created successfully.\n"
     ]
    }
   ],
   "source": [
    "# Save to gdb\n",
    "output_table = os.path.join(directory,\"ctu_landcover_summarytable_last\")\n",
    "arcpy.da.NumPyArrayToTable(df_final.to_records(index=False), output_table)\n",
    "\n",
    "print(\"Final table created successfully.\")"
   ]
  },
  {
   "cell_type": "code",
   "execution_count": 103,
   "metadata": {},
   "outputs": [
    {
     "data": {
      "text/html": [
       "<div class='gpresult'><h2>Messages</h2><div id='messages'>Start Time: Wednesday, April 2, 2025 3:40:02 PM<br>Succeeded at Wednesday, April 2, 2025 3:40:04 PM (Elapsed Time: 1.47 seconds)<br></div><div id = 'default' /></div></div>"
      ],
      "text/plain": [
       "<Result 'ctus_nlcd_SummarizeWithin'>"
      ]
     },
     "execution_count": 103,
     "metadata": {},
     "output_type": "execute_result"
    }
   ],
   "source": [
    "#Add Join\n",
    "arcpy.management.AddJoin(\n",
    "    in_layer_or_view=\"ctus_nlcd_SummarizeWithin\",\n",
    "    in_field=\"UNIQUE_ID\",\n",
    "    join_table=\"ctu_landcover_summarytable_last\",\n",
    "    join_field=\"Unique_ID\",\n",
    "    join_type=\"KEEP_ALL\",\n",
    "    index_join_fields=\"NO_INDEX_JOIN_FIELDS\",\n",
    "    rebuild_index=\"NO_REBUILD_INDEX\",\n",
    "    join_operation=\"\"\n",
    ")"
   ]
  },
  {
   "cell_type": "code",
   "execution_count": 104,
   "metadata": {},
   "outputs": [
    {
     "data": {
      "text/html": [
       "<div class='gpresult'><h2>Messages</h2><div id='messages'>Start Time: Wednesday, April 2, 2025 3:41:57 PM<br>Succeeded at Wednesday, April 2, 2025 3:42:05 PM (Elapsed Time: 7.41 seconds)<br></div><div id = 'default' /></div></div>"
      ],
      "text/plain": [
       "<Result 'C:\\\\Mac\\\\Home\\\\Documents\\\\ArcGIS\\\\Projects\\\\GIS5572\\\\bmsb\\\\bmsb.gdb\\\\landcover_ctu_finaljoin'>"
      ]
     },
     "execution_count": 104,
     "metadata": {},
     "output_type": "execute_result"
    }
   ],
   "source": [
    "#export joined fc\n",
    "arcpy.conversion.ExportFeatures(\n",
    "    in_features=\"ctus_nlcd_SummarizeWithin\",\n",
    "    out_features=r\"C:\\Mac\\Home\\Documents\\ArcGIS\\Projects\\GIS5572\\bmsb\\bmsb.gdb\\landcover_ctu_finaljoin\",\n",
    "    where_clause=\"\",\n",
    "    use_field_alias_as_name=\"NOT_USE_ALIAS\",\n",
    "    field_mapping='GNIS_FEATU \"GNIS_FEATU\" true true false 4 Long 0 0,First,#,ctus_nlcd_SummarizeWithin,ctus_nlcd_SummarizeWithin.GNIS_FEATU,-1,-1;FEATURE_NA \"FEATURE_NA\" true true false 254 Text 0 0,First,#,ctus_nlcd_SummarizeWithin,ctus_nlcd_SummarizeWithin.FEATURE_NA,0,253;CTU_CLASS \"CTU_CLASS\" true true false 255 Text 0 0,First,#,ctus_nlcd_SummarizeWithin,ctus_nlcd_SummarizeWithin.CTU_CLASS,0,254;COUNTY_GNI \"COUNTY_GNI\" true true false 4 Long 0 0,First,#,ctus_nlcd_SummarizeWithin,ctus_nlcd_SummarizeWithin.COUNTY_GNI,-1,-1;COUNTY_COD \"COUNTY_COD\" true true false 2 Text 0 0,First,#,ctus_nlcd_SummarizeWithin,ctus_nlcd_SummarizeWithin.COUNTY_COD,0,1;COUNTY_NAM \"COUNTY_NAM\" true true false 100 Text 0 0,First,#,ctus_nlcd_SummarizeWithin,ctus_nlcd_SummarizeWithin.COUNTY_NAM,0,99;POPULATION \"POPULATION\" true true false 4 Long 0 0,First,#,ctus_nlcd_SummarizeWithin,ctus_nlcd_SummarizeWithin.POPULATION,-1,-1;SHAPE_Leng \"SHAPE_Leng\" true true false 8 Double 0 0,First,#,ctus_nlcd_SummarizeWithin,ctus_nlcd_SummarizeWithin.SHAPE_Leng,-1,-1;ORIG_FID \"ORIG_FID\" true true false 4 Long 0 0,First,#,ctus_nlcd_SummarizeWithin,ctus_nlcd_SummarizeWithin.ORIG_FID,-1,-1;UNIQUE_ID \"UNIQUE_ID\" true true false 4 Long 0 0,First,#,ctus_nlcd_SummarizeWithin,ctus_nlcd_SummarizeWithin.UNIQUE_ID,-1,-1;Shape_Length \"Shape_Length\" false true true 8 Double 0 0,First,#,ctus_nlcd_SummarizeWithin,ctus_nlcd_SummarizeWithin.Shape_Length,-1,-1;Shape_Area \"Shape_Area\" false true true 8 Double 0 0,First,#,ctus_nlcd_SummarizeWithin,ctus_nlcd_SummarizeWithin.Shape_Area,-1,-1;mean_grid_code \"Mean grid_code\" true true false 8 Double 0 0,First,#,ctus_nlcd_SummarizeWithin,ctus_nlcd_SummarizeWithin.mean_grid_code,-1,-1;Point_Count \"Count of Points\" true true false 4 Long 0 0,First,#,ctus_nlcd_SummarizeWithin,ctus_nlcd_SummarizeWithin.Point_Count,-1,-1;Join_ID \"JOIN ID\" true true false 4 Long 0 0,First,#,ctus_nlcd_SummarizeWithin,ctus_nlcd_SummarizeWithin.Join_ID,-1,-1;OBJECTID \"OBJECTID\" false true false 4 Long 0 9,First,#,ctus_nlcd_SummarizeWithin,ctu_landcover_summarytable_last.OBJECTID,-1,-1;Join_ID \"Join_ID\" true true false 8 BigInteger 0 0,First,#,ctus_nlcd_SummarizeWithin,ctu_landcover_summarytable_last.Join_ID,-1,-1;Unique_ID \"Unique_ID\" true true false 8 BigInteger 0 0,First,#,ctus_nlcd_SummarizeWithin,ctu_landcover_summarytable_last.Unique_ID,-1,-1;Unknown_Land_Cover \"Unknown_Land_Cover\" true true false 8 Double 0 0,First,#,ctus_nlcd_SummarizeWithin,ctu_landcover_summarytable_last.Unknown_Land_Cover,-1,-1;Agriculture \"Agriculture\" true true false 8 Double 0 0,First,#,ctus_nlcd_SummarizeWithin,ctu_landcover_summarytable_last.Agriculture,-1,-1;Developed \"Developed\" true true false 8 Double 0 0,First,#,ctus_nlcd_SummarizeWithin,ctu_landcover_summarytable_last.Developed,-1,-1;Forest \"Forest\" true true false 8 Double 0 0,First,#,ctus_nlcd_SummarizeWithin,ctu_landcover_summarytable_last.Forest,-1,-1;Water \"Water\" true true false 8 Double 0 0,First,#,ctus_nlcd_SummarizeWithin,ctu_landcover_summarytable_last.Water,-1,-1;Wetlands \"Wetlands\" true true false 8 Double 0 0,First,#,ctus_nlcd_SummarizeWithin,ctu_landcover_summarytable_last.Wetlands,-1,-1',\n",
    "    sort_field=None\n",
    ")"
   ]
  },
  {
   "cell_type": "code",
   "execution_count": 2,
   "metadata": {},
   "outputs": [
    {
     "name": "stderr",
     "output_type": "stream",
     "text": [
      "﻿Traceback (most recent call last):\n",
      "﻿  File \"<expression>\", line 1, in <module>\n",
      "﻿TypeError: unsupported operand type(s) for *: 'NoneType' and 'int'\n",
      "﻿Traceback (most recent call last):\n",
      "﻿  File \"<expression>\", line 1, in <module>\n",
      "﻿TypeError: unsupported operand type(s) for *: 'NoneType' and 'int'\n",
      "﻿Traceback (most recent call last):\n",
      "﻿  File \"<expression>\", line 1, in <module>\n",
      "﻿TypeError: unsupported operand type(s) for *: 'NoneType' and 'int'\n",
      "﻿Traceback (most recent call last):\n",
      "﻿  File \"<expression>\", line 1, in <module>\n",
      "﻿TypeError: unsupported operand type(s) for *: 'NoneType' and 'int'\n",
      "﻿Traceback (most recent call last):\n",
      "﻿  File \"<expression>\", line 1, in <module>\n",
      "﻿TypeError: unsupported operand type(s) for *: 'NoneType' and 'int'\n",
      "﻿Traceback (most recent call last):\n",
      "﻿  File \"<expression>\", line 1, in <module>\n",
      "﻿TypeError: unsupported operand type(s) for *: 'NoneType' and 'int'\n",
      "﻿Traceback (most recent call last):\n",
      "﻿  File \"<expression>\", line 1, in <module>\n",
      "﻿TypeError: unsupported operand type(s) for *: 'NoneType' and 'int'\n",
      "﻿Traceback (most recent call last):\n",
      "﻿  File \"<expression>\", line 1, in <module>\n",
      "﻿TypeError: unsupported operand type(s) for *: 'NoneType' and 'int'\n",
      "﻿Traceback (most recent call last):\n",
      "﻿  File \"<expression>\", line 1, in <module>\n",
      "﻿TypeError: unsupported operand type(s) for *: 'NoneType' and 'int'\n",
      "﻿Traceback (most recent call last):\n",
      "﻿  File \"<expression>\", line 1, in <module>\n",
      "﻿TypeError: unsupported operand type(s) for *: 'NoneType' and 'int'\n",
      "﻿Traceback (most recent call last):\n",
      "﻿  File \"<expression>\", line 1, in <module>\n",
      "﻿TypeError: unsupported operand type(s) for *: 'NoneType' and 'int'\n",
      "﻿Traceback (most recent call last):\n",
      "﻿  File \"<expression>\", line 1, in <module>\n",
      "﻿TypeError: unsupported operand type(s) for *: 'NoneType' and 'int'\n",
      "﻿Traceback (most recent call last):\n",
      "﻿  File \"<expression>\", line 1, in <module>\n",
      "﻿TypeError: unsupported operand type(s) for *: 'NoneType' and 'int'\n",
      "﻿Traceback (most recent call last):\n",
      "﻿  File \"<expression>\", line 1, in <module>\n",
      "﻿TypeError: unsupported operand type(s) for *: 'NoneType' and 'int'\n",
      "﻿Traceback (most recent call last):\n",
      "﻿  File \"<expression>\", line 1, in <module>\n",
      "﻿TypeError: unsupported operand type(s) for *: 'NoneType' and 'int'\n",
      "﻿Traceback (most recent call last):\n",
      "﻿  File \"<expression>\", line 1, in <module>\n",
      "﻿TypeError: unsupported operand type(s) for *: 'NoneType' and 'int'\n",
      "﻿Traceback (most recent call last):\n",
      "﻿  File \"<expression>\", line 1, in <module>\n",
      "﻿TypeError: unsupported operand type(s) for *: 'NoneType' and 'int'\n",
      "﻿Traceback (most recent call last):\n",
      "﻿  File \"<expression>\", line 1, in <module>\n",
      "﻿TypeError: unsupported operand type(s) for *: 'NoneType' and 'int'\n",
      "﻿Traceback (most recent call last):\n",
      "﻿  File \"<expression>\", line 1, in <module>\n",
      "﻿TypeError: unsupported operand type(s) for *: 'NoneType' and 'int'\n",
      "﻿Traceback (most recent call last):\n",
      "﻿  File \"<expression>\", line 1, in <module>\n",
      "﻿TypeError: unsupported operand type(s) for *: 'NoneType' and 'int'\n",
      "﻿Traceback (most recent call last):\n",
      "﻿  File \"<expression>\", line 1, in <module>\n",
      "﻿TypeError: unsupported operand type(s) for *: 'NoneType' and 'int'\n",
      "﻿Traceback (most recent call last):\n",
      "﻿  File \"<expression>\", line 1, in <module>\n",
      "﻿TypeError: unsupported operand type(s) for *: 'NoneType' and 'int'\n",
      "﻿Traceback (most recent call last):\n",
      "﻿  File \"<expression>\", line 1, in <module>\n",
      "﻿TypeError: unsupported operand type(s) for *: 'NoneType' and 'int'\n",
      "﻿Traceback (most recent call last):\n",
      "﻿  File \"<expression>\", line 1, in <module>\n",
      "﻿TypeError: unsupported operand type(s) for *: 'NoneType' and 'int'\n",
      "﻿Traceback (most recent call last):\n",
      "﻿  File \"<expression>\", line 1, in <module>\n",
      "﻿TypeError: unsupported operand type(s) for *: 'NoneType' and 'int'\n",
      "﻿Traceback (most recent call last):\n",
      "﻿  File \"<expression>\", line 1, in <module>\n",
      "﻿TypeError: unsupported operand type(s) for *: 'NoneType' and 'int'\n",
      "﻿Traceback (most recent call last):\n",
      "﻿  File \"<expression>\", line 1, in <module>\n",
      "﻿TypeError: unsupported operand type(s) for *: 'NoneType' and 'int'\n",
      "﻿Traceback (most recent call last):\n",
      "﻿  File \"<expression>\", line 1, in <module>\n",
      "﻿TypeError: unsupported operand type(s) for *: 'NoneType' and 'int'\n",
      "﻿Traceback (most recent call last):\n",
      "﻿  File \"<expression>\", line 1, in <module>\n",
      "﻿TypeError: unsupported operand type(s) for *: 'NoneType' and 'int'\n",
      "﻿Traceback (most recent call last):\n",
      "﻿  File \"<expression>\", line 1, in <module>\n",
      "﻿TypeError: unsupported operand type(s) for *: 'NoneType' and 'int'\n",
      "﻿Traceback (most recent call last):\n",
      "﻿  File \"<expression>\", line 1, in <module>\n",
      "﻿TypeError: unsupported operand type(s) for *: 'NoneType' and 'int'\n",
      "﻿Traceback (most recent call last):\n",
      "﻿  File \"<expression>\", line 1, in <module>\n",
      "﻿TypeError: unsupported operand type(s) for *: 'NoneType' and 'int'\n",
      "﻿Traceback (most recent call last):\n",
      "﻿  File \"<expression>\", line 1, in <module>\n",
      "﻿TypeError: unsupported operand type(s) for *: 'NoneType' and 'int'\n",
      "﻿Traceback (most recent call last):\n",
      "﻿  File \"<expression>\", line 1, in <module>\n",
      "﻿TypeError: unsupported operand type(s) for *: 'NoneType' and 'int'\n",
      "﻿Traceback (most recent call last):\n",
      "﻿  File \"<expression>\", line 1, in <module>\n",
      "﻿TypeError: unsupported operand type(s) for *: 'NoneType' and 'int'\n",
      "﻿Traceback (most recent call last):\n",
      "﻿  File \"<expression>\", line 1, in <module>\n",
      "﻿TypeError: unsupported operand type(s) for *: 'NoneType' and 'int'\n",
      "﻿Traceback (most recent call last):\n",
      "﻿  File \"<expression>\", line 1, in <module>\n",
      "﻿TypeError: unsupported operand type(s) for *: 'NoneType' and 'int'\n",
      "﻿Traceback (most recent call last):\n",
      "﻿  File \"<expression>\", line 1, in <module>\n",
      "﻿TypeError: unsupported operand type(s) for *: 'NoneType' and 'int'\n",
      "﻿Traceback (most recent call last):\n",
      "﻿  File \"<expression>\", line 1, in <module>\n",
      "﻿TypeError: unsupported operand type(s) for *: 'NoneType' and 'int'\n",
      "﻿Traceback (most recent call last):\n",
      "﻿  File \"<expression>\", line 1, in <module>\n",
      "﻿TypeError: unsupported operand type(s) for *: 'NoneType' and 'int'\n",
      "﻿Traceback (most recent call last):\n",
      "﻿  File \"<expression>\", line 1, in <module>\n",
      "﻿TypeError: unsupported operand type(s) for *: 'NoneType' and 'int'\n",
      "﻿Traceback (most recent call last):\n",
      "﻿  File \"<expression>\", line 1, in <module>\n",
      "﻿TypeError: unsupported operand type(s) for *: 'NoneType' and 'int'\n",
      "﻿Traceback (most recent call last):\n",
      "﻿  File \"<expression>\", line 1, in <module>\n",
      "﻿TypeError: unsupported operand type(s) for *: 'NoneType' and 'int'\n",
      "﻿Traceback (most recent call last):\n",
      "﻿  File \"<expression>\", line 1, in <module>\n",
      "﻿TypeError: unsupported operand type(s) for *: 'NoneType' and 'int'\n",
      "﻿Traceback (most recent call last):\n",
      "﻿  File \"<expression>\", line 1, in <module>\n",
      "﻿TypeError: unsupported operand type(s) for *: 'NoneType' and 'int'\n",
      "﻿Traceback (most recent call last):\n",
      "﻿  File \"<expression>\", line 1, in <module>\n",
      "﻿TypeError: unsupported operand type(s) for *: 'NoneType' and 'int'\n",
      "﻿Traceback (most recent call last):\n",
      "﻿  File \"<expression>\", line 1, in <module>\n",
      "﻿TypeError: unsupported operand type(s) for *: 'NoneType' and 'int'\n",
      "﻿Traceback (most recent call last):\n",
      "﻿  File \"<expression>\", line 1, in <module>\n",
      "﻿TypeError: unsupported operand type(s) for *: 'NoneType' and 'int'\n",
      "﻿Traceback (most recent call last):\n",
      "﻿  File \"<expression>\", line 1, in <module>\n",
      "﻿TypeError: unsupported operand type(s) for *: 'NoneType' and 'int'\n",
      "﻿Traceback (most recent call last):\n",
      "﻿  File \"<expression>\", line 1, in <module>\n",
      "﻿TypeError: unsupported operand type(s) for *: 'NoneType' and 'int'\n",
      "﻿Traceback (most recent call last):\n",
      "﻿  File \"<expression>\", line 1, in <module>\n",
      "﻿TypeError: unsupported operand type(s) for *: 'NoneType' and 'int'\n",
      "﻿Traceback (most recent call last):\n",
      "﻿  File \"<expression>\", line 1, in <module>\n",
      "﻿TypeError: unsupported operand type(s) for *: 'NoneType' and 'int'\n",
      "﻿Traceback (most recent call last):\n",
      "﻿  File \"<expression>\", line 1, in <module>\n",
      "﻿TypeError: unsupported operand type(s) for *: 'NoneType' and 'int'\n",
      "﻿Traceback (most recent call last):\n",
      "﻿  File \"<expression>\", line 1, in <module>\n",
      "﻿TypeError: unsupported operand type(s) for *: 'NoneType' and 'int'\n",
      "﻿Traceback (most recent call last):\n",
      "﻿  File \"<expression>\", line 1, in <module>\n",
      "﻿TypeError: unsupported operand type(s) for *: 'NoneType' and 'int'\n",
      "﻿Traceback (most recent call last):\n",
      "﻿  File \"<expression>\", line 1, in <module>\n"
     ]
    },
    {
     "name": "stderr",
     "output_type": "stream",
     "text": [
      "﻿TypeError: unsupported operand type(s) for *: 'NoneType' and 'int'\n",
      "﻿Traceback (most recent call last):\n",
      "﻿  File \"<expression>\", line 1, in <module>\n",
      "﻿TypeError: unsupported operand type(s) for *: 'NoneType' and 'int'\n",
      "﻿Traceback (most recent call last):\n",
      "﻿  File \"<expression>\", line 1, in <module>\n",
      "﻿TypeError: unsupported operand type(s) for *: 'NoneType' and 'int'\n",
      "﻿Traceback (most recent call last):\n",
      "﻿  File \"<expression>\", line 1, in <module>\n",
      "﻿TypeError: unsupported operand type(s) for *: 'NoneType' and 'int'\n",
      "﻿Traceback (most recent call last):\n",
      "﻿  File \"<expression>\", line 1, in <module>\n",
      "﻿TypeError: unsupported operand type(s) for *: 'NoneType' and 'int'\n",
      "﻿Traceback (most recent call last):\n",
      "﻿  File \"<expression>\", line 1, in <module>\n",
      "﻿TypeError: unsupported operand type(s) for *: 'NoneType' and 'int'\n",
      "﻿Traceback (most recent call last):\n",
      "﻿  File \"<expression>\", line 1, in <module>\n",
      "﻿TypeError: unsupported operand type(s) for *: 'NoneType' and 'int'\n",
      "﻿Traceback (most recent call last):\n",
      "﻿  File \"<expression>\", line 1, in <module>\n",
      "﻿TypeError: unsupported operand type(s) for *: 'NoneType' and 'int'\n",
      "﻿Traceback (most recent call last):\n",
      "﻿  File \"<expression>\", line 1, in <module>\n",
      "﻿TypeError: unsupported operand type(s) for *: 'NoneType' and 'int'\n",
      "﻿Traceback (most recent call last):\n",
      "﻿  File \"<expression>\", line 1, in <module>\n",
      "﻿TypeError: unsupported operand type(s) for *: 'NoneType' and 'int'\n",
      "﻿Traceback (most recent call last):\n",
      "﻿  File \"<expression>\", line 1, in <module>\n",
      "﻿TypeError: unsupported operand type(s) for *: 'NoneType' and 'int'\n",
      "﻿Traceback (most recent call last):\n",
      "﻿  File \"<expression>\", line 1, in <module>\n",
      "﻿TypeError: unsupported operand type(s) for *: 'NoneType' and 'int'\n",
      "﻿Traceback (most recent call last):\n",
      "﻿  File \"<expression>\", line 1, in <module>\n",
      "﻿TypeError: unsupported operand type(s) for *: 'NoneType' and 'int'\n",
      "﻿Traceback (most recent call last):\n",
      "﻿  File \"<expression>\", line 1, in <module>\n",
      "﻿TypeError: unsupported operand type(s) for *: 'NoneType' and 'int'\n",
      "﻿Traceback (most recent call last):\n",
      "﻿  File \"<expression>\", line 1, in <module>\n",
      "﻿TypeError: unsupported operand type(s) for *: 'NoneType' and 'int'\n",
      "﻿Traceback (most recent call last):\n",
      "﻿  File \"<expression>\", line 1, in <module>\n",
      "﻿TypeError: unsupported operand type(s) for *: 'NoneType' and 'int'\n",
      "﻿Traceback (most recent call last):\n",
      "﻿  File \"<expression>\", line 1, in <module>\n",
      "﻿TypeError: unsupported operand type(s) for *: 'NoneType' and 'int'\n",
      "﻿Traceback (most recent call last):\n",
      "﻿  File \"<expression>\", line 1, in <module>\n",
      "﻿TypeError: unsupported operand type(s) for *: 'NoneType' and 'int'\n",
      "﻿Traceback (most recent call last):\n",
      "﻿  File \"<expression>\", line 1, in <module>\n",
      "﻿TypeError: unsupported operand type(s) for *: 'NoneType' and 'int'\n",
      "﻿Traceback (most recent call last):\n",
      "﻿  File \"<expression>\", line 1, in <module>\n",
      "﻿TypeError: unsupported operand type(s) for *: 'NoneType' and 'int'\n"
     ]
    },
    {
     "data": {
      "text/html": [
       "<div class='gpresult'><h2>Messages</h2><div id='messages'>Start Time: Monday, April 7, 2025 1:02:03 PM<br>WARNING 002858: Certain rows set to NULL due to error while evaluating python expression: ﻿TypeError: unsupported operand type(s) for *: &#39;NoneType&#39; and &#39;int&#39;<br>Succeeded at Monday, April 7, 2025 1:02:08 PM (Elapsed Time: 4.64 seconds)<br></div><div id = 'default' /></div></div>"
      ],
      "text/plain": [
       "<Result 'landcover_ctu_finaljoin'>"
      ]
     },
     "execution_count": 2,
     "metadata": {},
     "output_type": "execute_result"
    }
   ],
   "source": [
    "arcpy.management.CalculateField(\n",
    "    in_table=\"landcover_ctu_finaljoin\",\n",
    "    field=\"attractiveness\",\n",
    "    expression=\"((!Agriculture! * 1) + (!Developed!  * 1) + (!Forest! * 0.4) + (!Water! * 0) + (!Wetlands!  * 0.1))/100\",\n",
    "    expression_type=\"PYTHON3\",\n",
    "    code_block=\"\",\n",
    "    field_type=\"FLOAT\",\n",
    "    enforce_domains=\"NO_ENFORCE_DOMAINS\"\n",
    ")"
   ]
  },
  {
   "cell_type": "code",
   "execution_count": null,
   "metadata": {},
   "outputs": [],
   "source": []
  }
 ],
 "metadata": {
  "kernelspec": {
   "display_name": "ArcGISPro",
   "language": "Python",
   "name": "python3"
  },
  "language_info": {
   "file_extension": ".py",
   "name": "python",
   "version": "3"
  }
 },
 "nbformat": 4,
 "nbformat_minor": 2
}
