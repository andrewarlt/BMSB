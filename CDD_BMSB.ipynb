{
 "cells": [
  {
   "cell_type": "code",
   "execution_count": 1,
   "metadata": {},
   "outputs": [],
   "source": [
    "import pandas as pd\n",
    "import arcpy\n",
    "from arcgis import GeoAccessor"
   ]
  },
  {
   "cell_type": "markdown",
   "metadata": {},
   "source": [
    "### Load Cooling Degree Day Data"
   ]
  },
  {
   "cell_type": "code",
   "execution_count": 2,
   "metadata": {},
   "outputs": [],
   "source": [
    "cdd_csv_path = r'C:\\Users\\tjjoh\\OneDrive\\Desktop\\GIS 5572\\Lab2\\cdd.csv'\n",
    "\n",
    "stem_path = r'C:\\Users\\tjjoh\\Documents\\GIS5572'\n",
    "gdb_name = 'Lab3_GDB'\n",
    "gdb_path = stem_path + '/' + gdb_name + '.gdb'\n",
    "\n",
    "fc_path = gdb_path + '/cdd'"
   ]
  },
  {
   "cell_type": "code",
   "execution_count": 3,
   "metadata": {},
   "outputs": [],
   "source": [
    "#read data into a pandas dataframe\n",
    "cdd = pd.read_csv(cdd_csv_path)"
   ]
  },
  {
   "cell_type": "code",
   "execution_count": 4,
   "metadata": {},
   "outputs": [],
   "source": [
    "#convert to a spatially-enabled dataframe\n",
    "cdd_sedf = GeoAccessor.from_xy(cdd, x_column = 'Longitude', y_column = 'Latitude', sr = 4326)"
   ]
  },
  {
   "cell_type": "code",
   "execution_count": 5,
   "metadata": {},
   "outputs": [],
   "source": [
    "#create a file geodatabase\n",
    "try:\n",
    "    arcpy.management.CreateFileGDB(\n",
    "        out_folder_path = stem_path,\n",
    "        out_name = gdb_name,\n",
    "        out_version = 'CURRENT'\n",
    "    )\n",
    "except:\n",
    "    pass"
   ]
  },
  {
   "cell_type": "code",
   "execution_count": 6,
   "metadata": {},
   "outputs": [],
   "source": [
    "#convert to a feature class\n",
    "cdd_fc = cdd_sedf.spatial.to_featureclass(location = fc_path)"
   ]
  },
  {
   "cell_type": "code",
   "execution_count": 7,
   "metadata": {},
   "outputs": [],
   "source": [
    "\"\"\"\n",
    "For interpolation, data needs to be a float or a double. Because cooling degree days is an integer, ArcGIS is unable to\n",
    "directly interpolate on it. These data management steps add a new double field, copies the data to that field, and\n",
    "deletes the original integer field.\n",
    "\"\"\"\n",
    "\n",
    "#list months\n",
    "months = ['january','february','march','april','may','june','july','august','september','october','november','december']\n",
    "\n",
    "for month in months:\n",
    "    #add a new field of type double to attribute table\n",
    "    arcpy.management.AddFields(\n",
    "        in_table = cdd_fc,\n",
    "        field_description = f'temp DOUBLE temp # # #',\n",
    "        template=None\n",
    "    )\n",
    "    \n",
    "    #copy data to the new field\n",
    "    arcpy.management.CalculateField(\n",
    "        in_table = cdd_fc,\n",
    "        field = 'temp',\n",
    "        expression = f'!{month}!',\n",
    "        expression_type = 'PYTHON3',\n",
    "    )\n",
    "    \n",
    "    #delete the original field\n",
    "    arcpy.management.DeleteField(\n",
    "        in_table = cdd_fc,\n",
    "        drop_field = month,\n",
    "        method = 'DELETE_FIELDS'\n",
    "    )\n",
    "    \n",
    "    #rename the new field to what is was originally called\n",
    "    arcpy.management.AlterField(\n",
    "        in_table = cdd_fc,\n",
    "        field = 'temp',\n",
    "        new_field_name = month,\n",
    "        new_field_alias = month,\n",
    "    )"
   ]
  },
  {
   "cell_type": "markdown",
   "metadata": {},
   "source": [
    "### Interpolate CDD for each month"
   ]
  },
  {
   "cell_type": "code",
   "execution_count": 8,
   "metadata": {},
   "outputs": [],
   "source": [
    "for month in months:\n",
    "    #inverse-distance weighted interpolation\n",
    "    arcpy.ddd.Idw(\n",
    "        in_point_features = cdd_fc,\n",
    "        z_field = month,\n",
    "        out_raster = gdb_path + f'/{month[:3]}_idw',\n",
    "        cell_size = 0.0216032,\n",
    "        power = 2,\n",
    "        search_radius = 'VARIABLE 12',\n",
    "        in_barrier_polyline_features = None\n",
    "    )\n",
    "    \n",
    "    #natural neighbor interpolation\n",
    "    #arcpy.ddd.NaturalNeighbor(\n",
    "    #    in_point_features = cdd_fc,\n",
    "    #    z_field = month,\n",
    "    #    out_raster = gdb_path + f'/{month[:3]}_nn',\n",
    "    #    cell_size = 0.0216032\n",
    "    #)\n",
    "    \n",
    "    \"\"\"\n",
    "    Some months have the same value (0) for all points. Because Kriging relies on a semivariogram, it cannot be used for\n",
    "    constant or near-constant data. This try-except block allows the script to skip applying Kriging if a semivariogram\n",
    "    cannot be calculated.\n",
    "    \"\"\"\n",
    "    #try:\n",
    "        #Kriging interpolation\n",
    "        #arcpy.ddd.Kriging(\n",
    "        #    in_point_features = cdd_fc,\n",
    "        #    z_field = month,\n",
    "        #    out_surface_raster = gdb_path + f'/{month[:3]}_krig',\n",
    "        #    semiVariogram_props = 'Spherical # # # #',\n",
    "        #    cell_size = 0.0216032,\n",
    "        #    search_radius = 'VARIABLE 12',\n",
    "        #    out_variance_prediction_raster = None\n",
    "        #)\n",
    "    #except:\n",
    "        #pass"
   ]
  },
  {
   "cell_type": "markdown",
   "metadata": {},
   "source": [
    "### Load CTU Data"
   ]
  },
  {
   "cell_type": "code",
   "execution_count": 9,
   "metadata": {},
   "outputs": [],
   "source": [
    "ctu_fc = 'ctus_with_id'"
   ]
  },
  {
   "cell_type": "code",
   "execution_count": 10,
   "metadata": {},
   "outputs": [
    {
     "data": {
      "text/html": [
       "<div class='gpresult'><h2>Messages</h2><div id='messages' data-messages='[\"Start Time: Thursday, April 3, 2025 4:39:12 PM\",\"Succeeded at Thursday, April 3, 2025 4:39:23 PM (Elapsed Time: 10.96 seconds)\"]' data-show='true'><div id = 'default' /></div></div>"
      ],
      "text/plain": [
       "<Result 'ctus_with_id'>"
      ]
     },
     "execution_count": 10,
     "metadata": {},
     "output_type": "execute_result"
    }
   ],
   "source": [
    "#find the centroid of each CTU\n",
    "arcpy.management.CalculateGeometryAttributes(\n",
    "    in_features = ctu_fc,\n",
    "    geometry_property = 'centx CENTROID_X; centy CENTROID_Y',\n",
    "    coordinate_system = arcpy.Describe(ctu_fc).spatialReference\n",
    ")"
   ]
  },
  {
   "cell_type": "code",
   "execution_count": 11,
   "metadata": {},
   "outputs": [],
   "source": [
    "#create a feature class of the centroidal points\n",
    "centroids = arcpy.management.XYTableToPoint(\n",
    "    in_table = ctu_fc,\n",
    "    out_feature_class = gdb_path + '/centroids',\n",
    "    x_field = 'centx',\n",
    "    y_field = 'centy',\n",
    "    coordinate_system = 'PROJCS[\"WGS_1984_UTM_Zone_15N\",GEOGCS[\"GCS_WGS_1984\",DATUM[\"D_WGS_1984\",SPHEROID[\"WGS_1984\",6378137.0,298.257223563]],PRIMEM[\"Greenwich\",0.0],UNIT[\"Degree\",0.0174532925199433]],PROJECTION[\"Transverse_Mercator\"],PARAMETER[\"False_Easting\",500000.0],PARAMETER[\"False_Northing\",0.0],PARAMETER[\"Central_Meridian\",-93.0],PARAMETER[\"Scale_Factor\",0.9996],PARAMETER[\"Latitude_Of_Origin\",0.0],UNIT[\"Meter\",1.0]];-5120900 -9998100 10000;-100000 10000;-100000 10000;0.001;0.001;0.001;IsHighPrecision'\n",
    ")"
   ]
  },
  {
   "cell_type": "code",
   "execution_count": 12,
   "metadata": {},
   "outputs": [
    {
     "data": {
      "text/html": [
       "<div class='gpresult'><h2>Messages</h2><div id='messages' data-messages='[\"Start Time: Thursday, April 3, 2025 4:39:58 PM\",\"Succeeded at Thursday, April 3, 2025 4:39:59 PM (Elapsed Time: 0.94 seconds)\"]' data-show='true'><div id = 'default' /></div></div>"
      ],
      "text/plain": [
       "<Result 'centroids_Layer1'>"
      ]
     },
     "execution_count": 12,
     "metadata": {},
     "output_type": "execute_result"
    }
   ],
   "source": [
    "raster_domain = gdb_path + '/raster_domain'\n",
    "arcpy.ddd.RasterDomain(\n",
    "    in_raster = f'{gdb_path}/{months[0][:3]}_idw',\n",
    "    out_feature_class = raster_domain,\n",
    "    out_geometry_type = 'POLYGON'\n",
    ")\n",
    "\n",
    "selection = arcpy.management.SelectLayerByLocation(\n",
    "    in_layer = centroids,\n",
    "    overlap_type = 'COMPLETELY_WITHIN',\n",
    "    select_features = raster_domain,\n",
    "    search_distance = None,\n",
    "    selection_type = 'NEW_SELECTION',\n",
    "    invert_spatial_relationship = 'INVERT'\n",
    ")\n",
    "    \n",
    "arcpy.edit.Snap(\n",
    "    in_features = selection,\n",
    "    snap_environment = f'{raster_domain} EDGE \"100 Kilometers\"'\n",
    ")"
   ]
  },
  {
   "cell_type": "code",
   "execution_count": 13,
   "metadata": {},
   "outputs": [],
   "source": [
    "#extract the raster value for each CTU (currently uses IDW)\n",
    "for month in months:\n",
    "     arcpy.sa.ExtractMultiValuesToPoints(\n",
    "        in_point_features = centroids,\n",
    "        in_rasters = f'{gdb_path}/{month[:3]}_idw {month}',\n",
    "        bilinear_interpolate_values = 'NONE'\n",
    "    )"
   ]
  },
  {
   "cell_type": "code",
   "execution_count": 14,
   "metadata": {},
   "outputs": [],
   "source": [
    "for month in months:\n",
    "    with arcpy.da.UpdateCursor(centroids, [month, 'SHAPE@XY']) as cursor:\n",
    "        for row in cursor:\n",
    "            if row[0] is None:\n",
    "                x, y = row[1]\n",
    "                "
   ]
  },
  {
   "cell_type": "code",
   "execution_count": 15,
   "metadata": {},
   "outputs": [
    {
     "data": {
      "text/html": [
       "<div class='gpresult'><h2>Messages</h2><div id='messages' data-messages='[\"Start Time: Thursday, April 3, 2025 4:43:02 PM\",\"Succeeded at Thursday, April 3, 2025 4:43:03 PM (Elapsed Time: 1.38 seconds)\"]' data-show='true'><div id = 'default' /></div></div>"
      ],
      "text/plain": [
       "<Result 'ctus_with_id'>"
      ]
     },
     "execution_count": 15,
     "metadata": {},
     "output_type": "execute_result"
    }
   ],
   "source": [
    "#join the interpolated CDD data with CTUs\n",
    "arcpy.management.JoinField(\n",
    "    in_data = ctu_fc,\n",
    "    in_field = 'UNIQUE_ID',\n",
    "    join_table = centroids,\n",
    "    join_field = 'UNIQUE_ID',\n",
    "    fields = 'january; february; march; april; may; june; july; august; september; october; november; december',\n",
    ")"
   ]
  },
  {
   "cell_type": "code",
   "execution_count": null,
   "metadata": {},
   "outputs": [],
   "source": []
  }
 ],
 "metadata": {
  "kernelspec": {
   "display_name": "ArcGISPro",
   "language": "Python",
   "name": "python3"
  },
  "language_info": {
   "file_extension": ".py",
   "name": "python",
   "version": "3"
  }
 },
 "nbformat": 4,
 "nbformat_minor": 2
}
