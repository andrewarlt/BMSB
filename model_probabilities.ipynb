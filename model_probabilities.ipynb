{
 "cells": [
  {
   "cell_type": "markdown",
   "metadata": {},
   "source": [
    "This notebook contains function for generating the three probability models. There is some error handling with all of them. The parameters alpha, beta, and p_max have defaults, but they will have to be tuned further, probably with a sensitivity analysis."
   ]
  },
  {
   "cell_type": "code",
   "execution_count": null,
   "metadata": {},
   "outputs": [],
   "source": [
    "import numpy as np"
   ]
  },
  {
   "cell_type": "code",
   "execution_count": null,
   "metadata": {},
   "outputs": [],
   "source": [
    "# function for inverse distance, alpha modifies the stretch, and values returned range from 0 to p_max\n",
    "def true_distance_probabilities(distances, alpha=1, p_max=0.5):\n",
    "    # Convert to numpy\n",
    "    np_distances = np.array(distances)\n",
    "\n",
    "    # Error handling\n",
    "    if np_distances.shape[0] != np_distances.shape[1]:\n",
    "        print(\"ERROR: Distance Matrix not square\")\n",
    "        return\n",
    "    if np.min(np_distances < 0):\n",
    "        print(\"ERROR: Negative Distance\")\n",
    "        return\n",
    "    if p_max < 0 or p_max > 1:\n",
    "        print(\"ERROR: Invalid value of p_max\")\n",
    "        return\n",
    "\n",
    "    # Function\n",
    "    new_distances = (np_distances < 1).astype(int) + np.multiply((np_distances >= 1).astype(int), np_distances) # replace everything less than 1 with 1\n",
    "    result = np.power(np.power(new_distances, alpha), -1)\n",
    "\n",
    "    # Rescale array\n",
    "    arr_min = np.min(result)\n",
    "    arr_max = np.max(result)\n",
    "    result = ((result - arr_min)/(arr_max - arr_min)) * p_max\n",
    "\n",
    "    return result"
   ]
  },
  {
   "cell_type": "code",
   "execution_count": null,
   "metadata": {},
   "outputs": [],
   "source": [
    "# function for gravity model, alpha modifies the stretch, and values returned range from 0 to p_max\n",
    "def gravity_model(distances, populations, alpha=0.1, p_max=0.5):\n",
    "    # Convert to numpy\n",
    "    np_distances = np.array(distances)\n",
    "    np_populations = np.array(populations)\n",
    "\n",
    "    # Error handling\n",
    "    if np_distances.shape[0] != np_distances.shape[1]:\n",
    "        print(\"ERROR: Distance Matrix not square\")\n",
    "        return\n",
    "    if np.min(np_distances < 0):\n",
    "        print(\"ERROR: Negative Distance\")\n",
    "        return\n",
    "    if np_distances.shape[0] != np_populations.shape[0]:\n",
    "        print(\"ERROR: Distance and Populations are not the same size\")\n",
    "        return\n",
    "    if np.min(np_populations) < 0:\n",
    "        print(\"ERROR: Negative Population\")\n",
    "        return\n",
    "    if p_max < 0 or p_max > 1:\n",
    "        print(\"ERROR: Invalid value of p_max\")\n",
    "        return\n",
    "\n",
    "    # Function\n",
    "    new_populations = np_populations / 1000 # prevent integer overflow\n",
    "    new_distances = (np_distances < 1).astype(int) + np.multiply((np_distances >= 1).astype(int), np_distances) # replace everything less than 1 with 1\n",
    "    weight = np.multiply(np.tile(np.atleast_2d(new_populations).T, (1, len(new_populations))), np.tile(new_populations, (len(new_populations), 1)))\n",
    "    result = np.power(np.divide(weight, new_distances), alpha)\n",
    "\n",
    "    # Rescale array\n",
    "    arr_min = np.min(result)\n",
    "    arr_max = np.max(result)\n",
    "    result = ((result - arr_min)/(arr_max - arr_min)) * p_max\n",
    "    \n",
    "    return result"
   ]
  },
  {
   "cell_type": "code",
   "execution_count": null,
   "metadata": {},
   "outputs": [],
   "source": [
    "# function for huff model, alpha modifies the stretch for attractiveness, beta modifies the stretch for distance, and values returned range from 0 to p_max\n",
    "def huff_model(attractiveness, distances, alpha=0.1, beta=0.1, p_max=0.5):\n",
    "    # Convert to numpy\n",
    "    np_distances = np.array(distances)\n",
    "    np_attractiveness = np.array(attractiveness)\n",
    "\n",
    "    # Error handling\n",
    "    if np_distances.shape[0] != np_distances.shape[1]:\n",
    "        print(\"ERROR: Distance Matrix not square\")\n",
    "        return\n",
    "    if np.min(np_distances < 0):\n",
    "        print(\"ERROR: Negative Distance\")\n",
    "        return\n",
    "    if np_distances.shape[0] != np_attractiveness.shape[0]:\n",
    "        print(\"ERROR: Distance and Populations are not the same size\")\n",
    "        return\n",
    "    if np.min(np_attractiveness) < 0 or np.max(np_attractiveness) > 1:\n",
    "        print(\"ERROR: Attractivness not on scale [0,1]\")\n",
    "        return\n",
    "    if p_max < 0 or p_max > 1:\n",
    "        print(\"ERROR: Invalid value of p_max\")\n",
    "        return\n",
    "\n",
    "    # Function\n",
    "    new_distances = (np_distances < 1).astype(int) + np.multiply((np_distances >= 1).astype(int), np_distances) # replace everything less than 1 with 1\n",
    "    A_j_alpha = np.power(np.tile(np.atleast_2d(np_attractiveness).T, (1,len(np_attractiveness))), alpha)\n",
    "    D_i_j_beta = np.power(new_distances,-1*beta)\n",
    "    denominator = np.sum(new_distances, axis=1) * np.sum(np_attractiveness)\n",
    "    result = np.divide(np.multiply(A_j_alpha, D_i_j_beta), denominator)\n",
    "\n",
    "    # Rescale array\n",
    "    arr_min = np.min(result)\n",
    "    arr_max = np.max(result)\n",
    "    result = ((result - arr_min)/(arr_max - arr_min)) * p_max\n",
    "\n",
    "    return result"
   ]
  }
 ],
 "metadata": {
  "kernelspec": {
   "display_name": "Python 3",
   "language": "python",
   "name": "python3"
  },
  "language_info": {
   "codemirror_mode": {
    "name": "ipython",
    "version": 3
   },
   "file_extension": ".py",
   "mimetype": "text/x-python",
   "name": "python",
   "nbconvert_exporter": "python",
   "pygments_lexer": "ipython3",
   "version": "3.9.18"
  }
 },
 "nbformat": 4,
 "nbformat_minor": 2
}
