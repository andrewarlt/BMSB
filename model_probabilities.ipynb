{
 "cells": [
  {
   "cell_type": "markdown",
   "metadata": {},
   "source": [
    "This notebook contains function for generating the three probability models. There is some error handling with all of them. The parameters alpha, beta, and p_max have defaults, but they will have to be tuned further, probably with a sensitivity analysis."
   ]
  },
  {
   "cell_type": "code",
   "execution_count": null,
   "metadata": {},
   "outputs": [],
   "source": [
    "import numpy as np"
   ]
  },
  {
   "cell_type": "code",
   "execution_count": null,
   "metadata": {},
   "outputs": [],
   "source": [
    "# function for inverse distance, alpha modifies the stretch, and values returned range from 0 to p_max\n",
    "def true_distance_probabilities(distances, alpha=1, p_max=0.5):\n",
    "    # Convert to numpy\n",
    "    distances = np.array(distances)\n",
    "\n",
    "    # Error handling\n",
    "    if distances.shape[0] != distances.shape[1]:\n",
    "        return(\"ERROR: Distance Matrix not square\")\n",
    "    if np.min(distances < 0):\n",
    "        print(\"ERROR: Negative Distance\")\n",
    "    if p_max < 0 or p_max > 1:\n",
    "        return(\"ERROR: Invalid value of p_max\")\n",
    "\n",
    "    # Function\n",
    "    new_distances = (distances < 1).astype(int) + distances # replace everything less than 1 with 1\n",
    "    result = np.power(np.power(new_distances, alpha), -1)\n",
    "\n",
    "    # Rescale array\n",
    "    arr_min = np.min(result)\n",
    "    arr_max = np.max(result)\n",
    "    result = ((result - arr_min)/(arr_max - arr_min)) * p_max\n",
    "\n",
    "    return result"
   ]
  },
  {
   "cell_type": "code",
   "execution_count": null,
   "metadata": {},
   "outputs": [],
   "source": [
    "# function for gravity model, alpha modifies the stretch, and values returned range from 0 to p_max\n",
    "def gravity_model(distances, populations, alpha=0.1, p_max=0.5):\n",
    "    # Convert to numpy\n",
    "    distances = np.array(distances)\n",
    "    populations = np.array(populations)\n",
    "\n",
    "    # Error handling\n",
    "    if distances.shape[0] != distances.shape[1]:\n",
    "        return(\"ERROR: Distance Matrix not square\")\n",
    "    if np.min(distances < 0):\n",
    "        print(\"ERROR: Negative Distance\")\n",
    "    if distances.shape[0] != populations.shape[0]:\n",
    "        return(\"ERROR: Distance and Populations are not the same size\")\n",
    "    if np.min(populations) < 0:\n",
    "        print(\"ERROR: Negative Population\")\n",
    "    if p_max < 0 or p_max > 1:\n",
    "        return(\"ERROR: Invalid value of p_max\")\n",
    "\n",
    "    # Function\n",
    "    populations = populations / 1000 # prevent integer overflow\n",
    "    new_distances = (distances < 1).astype(int) + distances # replace everything less than 1 with 1\n",
    "    weight = np.multiply(np.tile(np.atleast_2d(populations).T, (1, len(populations))), np.tile(populations, (len(populations), 1)))\n",
    "    result = np.power(np.divide(weight, new_distances), alpha)\n",
    "\n",
    "    # Rescale array\n",
    "    arr_min = np.min(result)\n",
    "    arr_max = np.max(result)\n",
    "    result = ((result - arr_min)/(arr_max - arr_min)) * p_max\n",
    "    \n",
    "    return result"
   ]
  },
  {
   "cell_type": "code",
   "execution_count": null,
   "metadata": {},
   "outputs": [],
   "source": [
    "# function for gravity model, alpha modifies the stretch for attractiveness, beta modifies the stretch for distance, and values returned range from 0 to p_max\n",
    "def huff_model(attractiveness, distances, alpha=0.1, beta=0.1, p_max=0.5):\n",
    "    # Convert to numpy\n",
    "    distances = np.array(distances)\n",
    "    attractiveness = np.array(attractiveness)\n",
    "\n",
    "    # Error handling\n",
    "    if distances.shape[0] != distances.shape[1]:\n",
    "        return(\"ERROR: Distance Matrix not square\")\n",
    "    if np.min(distances < 0):\n",
    "        print(\"ERROR: Negative Distance\")\n",
    "    if distances.shape[0] != attractiveness.shape[0]:\n",
    "        return(\"ERROR: Distance and Populations are not the same size\")\n",
    "    if np.min(attractiveness) < 0 or np.max(attractiveness) > 1:\n",
    "        print(\"ERROR: Attractivness not on scale [0,1]\")\n",
    "    if p_max < 0 or p_max > 1:\n",
    "        return(\"ERROR: Invalid value of p_max\")\n",
    "\n",
    "    # Function\n",
    "    new_distances = (distances < 1).astype(int) + distances # replace everything less than 1 with 1\n",
    "    A_j_alpha = np.power(np.tile(np.atleast_2d(attractiveness).T, (1,len(attractiveness))), alpha)\n",
    "    D_i_j_beta = np.power(new_distances,-1*beta)\n",
    "    denominator = np.sum(new_distances, axis=1) * np.sum(attractiveness)\n",
    "    result = np.divide(np.multiply(A_j_alpha, D_i_j_beta), denominator)\n",
    "\n",
    "    # Rescale array\n",
    "    arr_min = np.min(result)\n",
    "    arr_max = np.max(result)\n",
    "    result = ((result - arr_min)/(arr_max - arr_min)) * p_max\n",
    "\n",
    "    return result"
   ]
  }
 ],
 "metadata": {
  "kernelspec": {
   "display_name": "Python 3",
   "language": "python",
   "name": "python3"
  },
  "language_info": {
   "codemirror_mode": {
    "name": "ipython",
    "version": 3
   },
   "file_extension": ".py",
   "mimetype": "text/x-python",
   "name": "python",
   "nbconvert_exporter": "python",
   "pygments_lexer": "ipython3",
   "version": "3.9.18"
  }
 },
 "nbformat": 4,
 "nbformat_minor": 2
}
