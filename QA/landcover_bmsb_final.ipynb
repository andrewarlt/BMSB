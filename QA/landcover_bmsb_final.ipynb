{
 "cells": [
  {
   "cell_type": "code",
   "execution_count": 11,
   "metadata": {},
   "outputs": [],
   "source": [
    "import requests\n",
    "import arcpy\n",
    "import pandas as pd\n",
    "import os\n",
    "import numpy as np\n",
    "import zipfile\n",
    "\n",
    "# === USER INPUT ===\n",
    "directory = r\"C:\\Mac\\Home\\Documents\\ArcGIS\\Projects\\GIS5572\\bmsb\"\n",
    "gdb_name = \"test.gdb\"\n",
    "fgdb = os.path.join(directory, gdb_name)\n",
    "\n",
    "# === GET FROM GITHUB \"BMSB_Data\" \n",
    "mn_boundary = \"C:\\Mac\\Home\\Documents\\ArcGIS\\Projects\\GIS5572\\bmsb\\bmsb.gdb\\state_of_minnesota\""
   ]
  },
  {
   "cell_type": "code",
   "execution_count": 12,
   "metadata": {},
   "outputs": [],
   "source": [
    "# === Download and extract NLCD landcover ===\n",
    "url = \"https://resources.gisdata.mn.gov/pub/gdrs/data/pub/us_mn_state_dnr/biota_landcover_nlcd_mn_2019/tif_biota_landcover_nlcd_mn_2019.zip\"\n",
    "os.makedirs(directory, exist_ok=True)\n",
    "zip_path = os.path.join(directory, \"landcover_2019.zip\")\n",
    "\n",
    "with requests.get(url, stream=True) as r, open(zip_path, \"wb\") as f:\n",
    "    for chunk in r.iter_content(chunk_size=8192):\n",
    "        f.write(chunk)\n",
    "\n",
    "with zipfile.ZipFile(zip_path, 'r') as zip_ref:\n",
    "    zip_ref.extractall(directory)\n"
   ]
  },
  {
   "cell_type": "code",
   "execution_count": 13,
   "metadata": {},
   "outputs": [],
   "source": [
    "landcover_raw = os.path.join(directory, \"NLCD_2019_Land_Cover.tif\")"
   ]
  },
  {
   "cell_type": "code",
   "execution_count": 14,
   "metadata": {},
   "outputs": [
    {
     "name": "stdout",
     "output_type": "stream",
     "text": [
      "-112390.0 801260.0 5566390.0 4600900.0\n",
      "Raster is not Within Bounding Box\n"
     ]
    }
   ],
   "source": [
    "def check_box(in_raster, ymin, ymax, xmin, xmax):\n",
    "    left = float(arcpy.management.GetRasterProperties(in_raster, \"LEFT\").getOutput(0))\n",
    "    right = float(arcpy.management.GetRasterProperties(in_raster,\"RIGHT\").getOutput(0))\n",
    "    top = float(arcpy.management.GetRasterProperties(in_raster, \"TOP\").getOutput(0))\n",
    "    bottom = float(arcpy.management.GetRasterProperties(in_raster,\"BOTTOM\").getOutput(0))\n",
    "    \n",
    "    print(left, right , top , bottom)\n",
    "    \n",
    "    if left < xmin or right > xmax or top > ymax or bottom < ymin:\n",
    "        print(\"Raster is not Within Bounding Box\")\n",
    "    else: \n",
    "        print(\"Raster is Within Bounding Box\")\n",
    "\n",
    "check_box(landcover_raw, 4770648.492016879, 5490732.38301064, 133186.3828544069, 789594.190423549)\n"
   ]
  },
  {
   "cell_type": "code",
   "execution_count": 15,
   "metadata": {},
   "outputs": [
    {
     "data": {
      "text/html": [
       "<div class='gpresult'><h2>Messages</h2><div id='messages'>Start Time: Wednesday, April 23, 2025 9:36:19 AM<br>Building Pyramids...<br>Succeeded at Wednesday, April 23, 2025 9:38:47 AM (Elapsed Time: 2 minutes 28 seconds)<br></div><div id = 'default' /></div></div>"
      ],
      "text/plain": [
       "<Result 'C:\\\\Mac\\\\Home\\\\Documents\\\\ArcGIS\\\\Projects\\\\GIS5572\\\\bmsb\\\\test.gdb\\\\landcover_clip'>"
      ]
     },
     "execution_count": 15,
     "metadata": {},
     "output_type": "execute_result"
    }
   ],
   "source": [
    "clip_path = os.path.join(fgdb, \"landcover_clip\")\n",
    "\n",
    "arcpy.management.Clip(\n",
    "    in_raster= landcover_raw,\n",
    "    rectangle=\"189775.332000001 4816305.37 762254.4779 5472427.737\",\n",
    "    out_raster= clip_path, \n",
    "    in_template_dataset=\"state_of_minnesota\",\n",
    "    nodata_value=\"255\",\n",
    "    clipping_geometry=\"NONE\",\n",
    "    maintain_clipping_extent=\"NO_MAINTAIN_EXTENT\"\n",
    ")"
   ]
  },
  {
   "cell_type": "code",
   "execution_count": 16,
   "metadata": {},
   "outputs": [
    {
     "ename": "ExecuteError",
     "evalue": "ERROR 999999: Something unexpected caused the tool to fail. Contact Esri Technical Support (http://esriurl.com/support) to Report a Bug, and refer to the error help for potential solutions or workarounds.\nFailed to execute (Reclassify).\n",
     "output_type": "error",
     "traceback": [
      "\u001b[0;31m---------------------------------------------------------------------------\u001b[0m\n\u001b[0;31mExecuteError\u001b[0m                              Traceback (most recent call last)",
      "In  \u001b[0;34m[16]\u001b[0m:\nLine \u001b[0;34m2\u001b[0m:     arcpy.ddd.Reclassify(\u001b[37m\u001b[39;49;00m\n",
      "File \u001b[0;34mC:\\Program Files\\ArcGIS\\Pro\\Resources\\ArcPy\\arcpy\\ddd.py\u001b[0m, in \u001b[0;32mReclassify\u001b[0m:\nLine \u001b[0;34m5338\u001b[0m:  \u001b[34mraise\u001b[39;49;00m e\u001b[37m\u001b[39;49;00m\n",
      "File \u001b[0;34mC:\\Program Files\\ArcGIS\\Pro\\Resources\\ArcPy\\arcpy\\ddd.py\u001b[0m, in \u001b[0;32mReclassify\u001b[0m:\nLine \u001b[0;34m5335\u001b[0m:  retval = convertArcObjectToPythonObject(gp.Reclassify_3d(*gp_fixargs((in_raster, reclass_field, remap, out_raster, missing_values), \u001b[34mTrue\u001b[39;49;00m)))\u001b[37m\u001b[39;49;00m\n",
      "File \u001b[0;34mC:\\Program Files\\ArcGIS\\Pro\\Resources\\ArcPy\\arcpy\\geoprocessing\\_base.py\u001b[0m, in \u001b[0;32m<lambda>\u001b[0m:\nLine \u001b[0;34m512\u001b[0m:   \u001b[34mreturn\u001b[39;49;00m \u001b[34mlambda\u001b[39;49;00m *args: val(*gp_fixargs(args, \u001b[34mTrue\u001b[39;49;00m))\u001b[37m\u001b[39;49;00m\n",
      "\u001b[0;31mExecuteError\u001b[0m: ERROR 999999: Something unexpected caused the tool to fail. Contact Esri Technical Support (http://esriurl.com/support) to Report a Bug, and refer to the error help for potential solutions or workarounds.\nFailed to execute (Reclassify).\n\n\u001b[0;31m---------------------------------------------------------------------------\u001b[0m"
     ]
    }
   ],
   "source": [
    "reclass_path = os.path.join(directory, \"land_reclass5\")\n",
    "arcpy.ddd.Reclassify(\n",
    "    in_raster=clip_path,\n",
    "    reclass_field=\"VALUE\",\n",
    "    remap=\"11 5;21 4;22 4;23 4;24 4;31 4;41 2;42 2;43 2;52 2;71 2;81 3;82 3;90 1;95 1\",\n",
    "    out_raster=reclass_path,\n",
    "    missing_values=\"DATA\"\n",
    ")"
   ]
  },
  {
   "cell_type": "code",
   "execution_count": null,
   "metadata": {},
   "outputs": [],
   "source": [
    "arcpy.conversion.RasterToGeodatabase(\n",
    "    Input_Rasters=reclass_path,\n",
    "    Output_Geodatabase=fgdb,\n",
    "    Configuration_Keyword=\"\"\n",
    ")\n"
   ]
  },
  {
   "cell_type": "code",
   "execution_count": null,
   "metadata": {},
   "outputs": [],
   "source": [
    "resample_path = os.path.join(directory, \"resample_land\")\n",
    "arcpy.management.Resample(\n",
    "    in_raster=reclass_path,\n",
    "    out_raster=resample_path,\n",
    "    cell_size=\"1000 1000\",\n",
    "    resampling_type=\"NEAR\"\n",
    ")\n"
   ]
  },
  {
   "cell_type": "code",
   "execution_count": null,
   "metadata": {},
   "outputs": [],
   "source": [
    "point_path = os.path.join(fgdb, \"lc_point\")\n",
    "arcpy.conversion.RasterToPoint(\n",
    "    in_raster=resample_path,\n",
    "    out_point_features= point_path,\n",
    "    raster_field=\"Value\"\n",
    ")\n"
   ]
  },
  {
   "cell_type": "code",
   "execution_count": null,
   "metadata": {},
   "outputs": [],
   "source": [
    "ctu_path = os.path.join(directory, \"ctus_with_id\")\n",
    "arcpy.conversion.FeatureClassToGeodatabase(\n",
    "    Input_Features= ctu_path,\n",
    "    Output_Geodatabase= fgdb\n",
    ")"
   ]
  },
  {
   "cell_type": "code",
   "execution_count": null,
   "metadata": {},
   "outputs": [],
   "source": [
    "sw_path = os.path.join(fgdb, \"ctus_nlcd_SummarizeWithin\")\n",
    "sw_table_path = os.path.join(fgdb, \"ncld_ctu_summary\")\n",
    "arcpy.analysis.SummarizeWithin(\n",
    "    in_polygons= ctu_path,\n",
    "    in_sum_features= point_path,\n",
    "    out_feature_class= sw_path,\n",
    "    keep_all_polygons=\"KEEP_ALL\",\n",
    "    sum_fields=\"grid_code Mean\",\n",
    "    sum_shape=\"ADD_SHAPE_SUM\",\n",
    "    shape_unit=\"SQUAREKILOMETERS\",\n",
    "    group_field=\"grid_code\",\n",
    "    add_min_maj=\"NO_MIN_MAJ\",\n",
    "    add_group_percent=\"ADD_PERCENT\",\n",
    "    out_group_table= sw_table_path\n",
    ")"
   ]
  },
  {
   "cell_type": "code",
   "execution_count": null,
   "metadata": {},
   "outputs": [],
   "source": [
    "#Add landcover field\n",
    "arcpy.management.AddField(\n",
    "    in_table=sw_table_path,\n",
    "    field_name=\"lc_class\",\n",
    "    field_type=\"TEXT\",\n",
    "    field_precision=None,\n",
    "    field_scale=None,\n",
    "    field_length=255,\n",
    "    field_alias=\"\",\n",
    "    field_is_nullable=\"NULLABLE\",\n",
    "    field_is_required=\"NON_REQUIRED\",\n",
    "    field_domain=\"\"\n",
    ")"
   ]
  },
  {
   "cell_type": "code",
   "execution_count": null,
   "metadata": {},
   "outputs": [],
   "source": [
    "#Calculate landcover class field\n",
    "standalone_table = \"ncld_ctu_summary\" \n",
    "\n",
    "land_cover_dict = {\n",
    "    1: \"Wetlands\",\n",
    "    2: \"Forest\",\n",
    "    3: \"Agriculture\",\n",
    "    4: \"Developed\",\n",
    "    5: \"Water\"\n",
    "}\n",
    "\n",
    "with arcpy.da.UpdateCursor(standalone_table, [\"grid_code\", \"lc_class\"]) as cursor:\n",
    "    for row in cursor:\n",
    "        grid_code = row[0]\n",
    "        if grid_code in land_cover_dict:\n",
    "            row[1] = land_cover_dict[grid_code]\n",
    "            cursor.updateRow(row)"
   ]
  },
  {
   "cell_type": "code",
   "execution_count": null,
   "metadata": {},
   "outputs": [],
   "source": [
    "# Convert the Summarize Within summary table to df \n",
    "summary_table = \"ncld_ctu_summary\"\n",
    "fields = [\"Join_ID\", \"lc_class\", \"PercentCount\"]\n",
    "\n",
    "# Read data into a list and convert to df\n",
    "data = [row for row in arcpy.da.SearchCursor(summary_table, fields)]\n",
    "df = pd.DataFrame(data, columns=[\"Join_ID\", \"lc_class\", \"PercentCount\"])\n",
    "\n",
    "# Pivot  table to get one row per Join ID with land cover percentages as columns\n",
    "df_pivot = df.pivot(index=\"Join_ID\", columns=\"lc_class\", values=\"PercentCount\").reset_index()\n",
    "\n",
    "# Fill NaN values with 0 \n",
    "df_pivot = df_pivot.fillna(0)"
   ]
  },
  {
   "cell_type": "code",
   "execution_count": null,
   "metadata": {},
   "outputs": [],
   "source": [
    "# Convert the Summarize Within feature class table to df\n",
    "ctu_table = \"ctus_nlcd_SummarizeWithin\"\n",
    "ctu_fields = [\"Join_ID\", \"UNIQUE_ID\"]\n",
    "\n",
    "# Read data into a list and convert to df\n",
    "ctu_data = [row for row in arcpy.da.SearchCursor(ctu_table, ctu_fields)]\n",
    "df_ctu = pd.DataFrame(ctu_data, columns=[\"Join_ID\",\"Unique ID\"])\n",
    "\n"
   ]
  },
  {
   "cell_type": "code",
   "execution_count": null,
   "metadata": {},
   "outputs": [],
   "source": [
    "# Merge pivoted table with  CTU summary table\n",
    "df_final = df_ctu.merge(df_pivot, on=\"Join_ID\", how=\"left\")\n",
    "df_final.rename(columns={np.nan: \"Unknown_Land_Cover\"}, inplace=True)"
   ]
  },
  {
   "cell_type": "code",
   "execution_count": null,
   "metadata": {},
   "outputs": [],
   "source": [
    "for column in df_final.columns:\n",
    "    print(f\"Column Name: {column}, Type: {df_final[column].dtype}\")"
   ]
  },
  {
   "cell_type": "code",
   "execution_count": null,
   "metadata": {},
   "outputs": [],
   "source": [
    "# Define structure for numpy array\n",
    "dtype_structure = [\n",
    "    (\"Join_ID\", \"i4\"),              \n",
    "    (\"Unique_ID\", \"i4\"),\n",
    "    (\"Unknown_Land_Cover\", \"f8\"),  \n",
    "    (\"Agriculture\", \"f8\"),\n",
    "    (\"Developed\", \"f8\"),\n",
    "    (\"Forest\", \"f8\"),\n",
    "    (\"Water\", \"f8\"),\n",
    "    (\"Wetlands\", \"f8\")\n",
    "]\n",
    "\n",
    "numpy_array = np.array(\n",
    "    [tuple(row) for row in df_final.itertuples(index=False)],\n",
    "    dtype=dtype_structure\n",
    ")"
   ]
  },
  {
   "cell_type": "code",
   "execution_count": null,
   "metadata": {},
   "outputs": [],
   "source": [
    "# Save to gdb\n",
    "output_table = os.path.join(directory,\"ctu_landcover_summarytable_last\")\n",
    "arcpy.da.NumPyArrayToTable(df_final.to_records(index=False), output_table)\n",
    "\n",
    "print(\"Final table created successfully.\")"
   ]
  },
  {
   "cell_type": "code",
   "execution_count": null,
   "metadata": {},
   "outputs": [],
   "source": [
    "#Add Join\n",
    "arcpy.management.AddJoin(\n",
    "    in_layer_or_view=\"ctus_nlcd_SummarizeWithin\",\n",
    "    in_field=\"UNIQUE_ID\",\n",
    "    join_table=\"ctu_landcover_summarytable_last\",\n",
    "    join_field=\"Unique_ID\",\n",
    "    join_type=\"KEEP_ALL\",\n",
    "    index_join_fields=\"NO_INDEX_JOIN_FIELDS\",\n",
    "    rebuild_index=\"NO_REBUILD_INDEX\",\n",
    "    join_operation=\"\"\n",
    ")"
   ]
  },
  {
   "cell_type": "code",
   "execution_count": null,
   "metadata": {},
   "outputs": [],
   "source": [
    "#export joined fc\n",
    "\n",
    "finaljoin_path = os.path.join(directory, \"landcover_ctu_finaljoin\")\n",
    "arcpy.conversion.ExportFeatures(\n",
    "    in_features=\"ctus_nlcd_SummarizeWithin\",\n",
    "    out_features= finaljoin_path,\n",
    "    where_clause=\"\",\n",
    "    use_field_alias_as_name=\"NOT_USE_ALIAS\",\n",
    "    field_mapping='GNIS_FEATU \"GNIS_FEATU\" true true false 4 Long 0 0,First,#,ctus_nlcd_SummarizeWithin,ctus_nlcd_SummarizeWithin.GNIS_FEATU,-1,-1;FEATURE_NA \"FEATURE_NA\" true true false 254 Text 0 0,First,#,ctus_nlcd_SummarizeWithin,ctus_nlcd_SummarizeWithin.FEATURE_NA,0,253;CTU_CLASS \"CTU_CLASS\" true true false 255 Text 0 0,First,#,ctus_nlcd_SummarizeWithin,ctus_nlcd_SummarizeWithin.CTU_CLASS,0,254;COUNTY_GNI \"COUNTY_GNI\" true true false 4 Long 0 0,First,#,ctus_nlcd_SummarizeWithin,ctus_nlcd_SummarizeWithin.COUNTY_GNI,-1,-1;COUNTY_COD \"COUNTY_COD\" true true false 2 Text 0 0,First,#,ctus_nlcd_SummarizeWithin,ctus_nlcd_SummarizeWithin.COUNTY_COD,0,1;COUNTY_NAM \"COUNTY_NAM\" true true false 100 Text 0 0,First,#,ctus_nlcd_SummarizeWithin,ctus_nlcd_SummarizeWithin.COUNTY_NAM,0,99;POPULATION \"POPULATION\" true true false 4 Long 0 0,First,#,ctus_nlcd_SummarizeWithin,ctus_nlcd_SummarizeWithin.POPULATION,-1,-1;SHAPE_Leng \"SHAPE_Leng\" true true false 8 Double 0 0,First,#,ctus_nlcd_SummarizeWithin,ctus_nlcd_SummarizeWithin.SHAPE_Leng,-1,-1;ORIG_FID \"ORIG_FID\" true true false 4 Long 0 0,First,#,ctus_nlcd_SummarizeWithin,ctus_nlcd_SummarizeWithin.ORIG_FID,-1,-1;UNIQUE_ID \"UNIQUE_ID\" true true false 4 Long 0 0,First,#,ctus_nlcd_SummarizeWithin,ctus_nlcd_SummarizeWithin.UNIQUE_ID,-1,-1;Shape_Length \"Shape_Length\" false true true 8 Double 0 0,First,#,ctus_nlcd_SummarizeWithin,ctus_nlcd_SummarizeWithin.Shape_Length,-1,-1;Shape_Area \"Shape_Area\" false true true 8 Double 0 0,First,#,ctus_nlcd_SummarizeWithin,ctus_nlcd_SummarizeWithin.Shape_Area,-1,-1;mean_grid_code \"Mean grid_code\" true true false 8 Double 0 0,First,#,ctus_nlcd_SummarizeWithin,ctus_nlcd_SummarizeWithin.mean_grid_code,-1,-1;Point_Count \"Count of Points\" true true false 4 Long 0 0,First,#,ctus_nlcd_SummarizeWithin,ctus_nlcd_SummarizeWithin.Point_Count,-1,-1;Join_ID \"JOIN ID\" true true false 4 Long 0 0,First,#,ctus_nlcd_SummarizeWithin,ctus_nlcd_SummarizeWithin.Join_ID,-1,-1;OBJECTID \"OBJECTID\" false true false 4 Long 0 9,First,#,ctus_nlcd_SummarizeWithin,ctu_landcover_summarytable_last.OBJECTID,-1,-1;Join_ID \"Join_ID\" true true false 8 BigInteger 0 0,First,#,ctus_nlcd_SummarizeWithin,ctu_landcover_summarytable_last.Join_ID,-1,-1;Unique_ID \"Unique_ID\" true true false 8 BigInteger 0 0,First,#,ctus_nlcd_SummarizeWithin,ctu_landcover_summarytable_last.Unique_ID,-1,-1;Unknown_Land_Cover \"Unknown_Land_Cover\" true true false 8 Double 0 0,First,#,ctus_nlcd_SummarizeWithin,ctu_landcover_summarytable_last.Unknown_Land_Cover,-1,-1;Agriculture \"Agriculture\" true true false 8 Double 0 0,First,#,ctus_nlcd_SummarizeWithin,ctu_landcover_summarytable_last.Agriculture,-1,-1;Developed \"Developed\" true true false 8 Double 0 0,First,#,ctus_nlcd_SummarizeWithin,ctu_landcover_summarytable_last.Developed,-1,-1;Forest \"Forest\" true true false 8 Double 0 0,First,#,ctus_nlcd_SummarizeWithin,ctu_landcover_summarytable_last.Forest,-1,-1;Water \"Water\" true true false 8 Double 0 0,First,#,ctus_nlcd_SummarizeWithin,ctu_landcover_summarytable_last.Water,-1,-1;Wetlands \"Wetlands\" true true false 8 Double 0 0,First,#,ctus_nlcd_SummarizeWithin,ctu_landcover_summarytable_last.Wetlands,-1,-1',\n",
    "    sort_field=None\n",
    ")"
   ]
  },
  {
   "cell_type": "code",
   "execution_count": null,
   "metadata": {},
   "outputs": [],
   "source": [
    "arcpy.management.CalculateField(\n",
    "    in_table=\"landcover_ctu_finaljoin\",\n",
    "    field=\"attractiveness\",\n",
    "    expression=\"((!Agriculture! * 1) + (!Developed!  * 1) + (!Forest! * 0.4) + (!Water! * 0) + (!Wetlands!  * 0.1))/100\",\n",
    "    expression_type=\"PYTHON3\",\n",
    "    code_block=\"\",\n",
    "    field_type=\"FLOAT\",\n",
    "    enforce_domains=\"NO_ENFORCE_DOMAINS\"\n",
    ")"
   ]
  },
  {
   "cell_type": "code",
   "execution_count": null,
   "metadata": {
    "scrolled": true
   },
   "outputs": [],
   "source": []
  }
 ],
 "metadata": {
  "kernelspec": {
   "display_name": "ArcGISPro",
   "language": "Python",
   "name": "python3"
  },
  "language_info": {
   "file_extension": ".py",
   "name": "python",
   "version": "3"
  }
 },
 "nbformat": 4,
 "nbformat_minor": 2
}
