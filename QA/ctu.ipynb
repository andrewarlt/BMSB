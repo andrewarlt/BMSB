{
 "cells": [
  {
   "cell_type": "markdown",
   "metadata": {},
   "source": [
    "This notebook contains the ctu data extraction and QA. It also adds a new UNIQUE_ID field to be used. The working directory needs to be defined in the second cell."
   ]
  },
  {
   "cell_type": "code",
   "execution_count": 1,
   "metadata": {},
   "outputs": [],
   "source": [
    "import requests\n",
    "import arcpy\n",
    "import zipfile"
   ]
  },
  {
   "cell_type": "code",
   "execution_count": 4,
   "metadata": {},
   "outputs": [],
   "source": [
    "### Define working directory\n",
    "wrkdir = r\"C:\\Users\\aoheg\\Desktop\\School\\GIS 5572\\Lab2\""
   ]
  },
  {
   "cell_type": "code",
   "execution_count": 5,
   "metadata": {},
   "outputs": [],
   "source": [
    "# Call API\n",
    "ctu_url = \"https://gisdata.mn.gov/api/3/action/package_show?id=bdry-mn-city-township-unorg\"\n",
    "ctu_response = requests.get(ctu_url)\n",
    "ctu_data_url = ctu_response.json()['result']['resources'][3]['url']\n",
    "ctu_data_response = requests.get(ctu_data_url)\n",
    "\n",
    "# Write data to zip file\n",
    "f = open(wrkdir + r\"\\MNctu.zip\", \"wb\")\n",
    "f.write(ctu_data_response.content)\n",
    "f.close\n",
    "\n",
    "# Extract zipfile\n",
    "with zipfile.ZipFile(wrkdir + r\"\\MNctu.zip\", \"r\") as zip_ref:\n",
    "    zip_ref.extractall(wrkdir + r\"\\MNctu\")"
   ]
  },
  {
   "cell_type": "code",
   "execution_count": null,
   "metadata": {},
   "outputs": [
    {
     "data": {
      "text/html": [
       "<div class='gpresult'><h2>Messages</h2><div id='messages' data-messages='[\"Start Time: Saturday, March 29, 2025 11:08:13 PM\",\"Succeeded at Saturday, March 29, 2025 11:08:13 PM (Elapsed Time: 0.03 seconds)\"]' data-show='true'><div id = 'default' /></div></div>"
      ],
      "text/plain": [
       "<Result 'memory\\\\ctu_filter1'>"
      ]
     },
     "execution_count": 7,
     "metadata": {},
     "output_type": "execute_result"
    }
   ],
   "source": [
    "# Check 2 - check for negative or too large populations\n",
    "arcpy.management.Delete(r\"memory\\ctu_filter1\")\n",
    "arcpy.management.MakeFeatureLayer(\n",
    "    wrkdir + r\"\\MNctu\\city_township_unorg.shp\",\n",
    "    r\"memory\\ctu_filter1\",\n",
    "    where_clause = \"POPULATION <= 500000 and POPULATION >= 0\"\n",
    ")"
   ]
  },
  {
   "cell_type": "code",
   "execution_count": 9,
   "metadata": {},
   "outputs": [],
   "source": [
    "# Sort and add new id field\n",
    "arcpy.management.Delete(r\"memory\\sorted_ctus\")\n",
    "arcpy.management.Sort(r\"memory\\ctu_filter1\", r\"memory\\sorted_ctus\", \"FEATURE_NA\")\n",
    "arcpy.management.AddField(r\"memory\\sorted_ctus\", \"UNIQUE_ID\", \"LONG\")\n",
    "with arcpy.da.UpdateCursor(r\"memory\\sorted_ctus\", [\"UNIQUE_ID\"]) as cursor:\n",
    "    count = 0 \n",
    "    for row in cursor:\n",
    "        row[0] = count\n",
    "        cursor.updateRow(row)\n",
    "        count += 1"
   ]
  },
  {
   "cell_type": "code",
   "execution_count": null,
   "metadata": {},
   "outputs": [],
   "source": [
    "# From here it should be written up to the Database"
   ]
  }
 ],
 "metadata": {
  "kernelspec": {
   "display_name": "Python 3",
   "language": "python",
   "name": "python3"
  },
  "language_info": {
   "codemirror_mode": {
    "name": "ipython",
    "version": 3
   },
   "file_extension": ".py",
   "mimetype": "text/x-python",
   "name": "python",
   "nbconvert_exporter": "python",
   "pygments_lexer": "ipython3",
   "version": "3.9.18"
  }
 },
 "nbformat": 4,
 "nbformat_minor": 2
}
