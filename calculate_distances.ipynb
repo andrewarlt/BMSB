{
 "cells": [
  {
   "cell_type": "markdown",
   "metadata": {},
   "source": [
    "This jupyter notebook contains the code to calculate distances between all pairs of cities. These distances are calculated in miles"
   ]
  },
  {
   "cell_type": "code",
   "execution_count": 23,
   "metadata": {},
   "outputs": [],
   "source": [
    "import arcpy\n",
    "import numpy as np"
   ]
  },
  {
   "cell_type": "code",
   "execution_count": null,
   "metadata": {},
   "outputs": [],
   "source": [
    "## Path to ctu polygons, this will need to be replaced with a pull from the database at some point\n",
    "ctu_polygons_path = r\"C:\\Users\\aoheg\\Desktop\\School\\GIS 5572\\GIS5572\\ctus_with_id.shp\""
   ]
  },
  {
   "cell_type": "code",
   "execution_count": null,
   "metadata": {},
   "outputs": [],
   "source": [
    "# Make OID/UNIQUE_ID dictionary\n",
    "codes_dict = {}\n",
    "with arcpy.da.SearchCursor(ctu_polygons_path, [\"FID\", \"UNIQUE_ID\",\"POPULATION\"]) as cursor:\n",
    "    for row in cursor:\n",
    "        codes_dict[row[0]] = row[1]"
   ]
  },
  {
   "cell_type": "code",
   "execution_count": null,
   "metadata": {},
   "outputs": [
    {
     "data": {
      "text/html": [
       "<div class='gpresult'><h2>Messages</h2><div id='messages' data-messages='[\"Start Time: Saturday, March 29, 2025 11:36:30 PM\",\"Determining data processing extents...\",\"Building a neighborhood index from the Near Features...\",\"Generating Near Table...\",\"Found 7521306 feature(s)\",\"Succeeded at Saturday, March 29, 2025 11:36:44 PM (Elapsed Time: 13.38 seconds)\"]' data-show='true'><div id = 'default' /></div></div>"
      ],
      "text/plain": [
       "<Result 'memory\\\\ctu_distances'>"
      ]
     },
     "execution_count": 33,
     "metadata": {},
     "output_type": "execute_result"
    }
   ],
   "source": [
    "## Convert to centroid points\n",
    "arcpy.management.Delete(\"memory/ctu_points\") # clear memory\n",
    "arcpy.management.FeatureToPoint(ctu_polygons_path, \"memory/ctu_points\")\n",
    "\n",
    "## Calculate all distances\n",
    "arcpy.management.Delete(\"memory/ctu_distances\") # clear memory\n",
    "arcpy.analysis.GenerateNearTable(\"memory/ctu_points\", \"memory/ctu_points\", \"memory/ctu_distances\", closest=\"ALL\", distance_unit=\"Miles\")"
   ]
  },
  {
   "cell_type": "code",
   "execution_count": null,
   "metadata": {},
   "outputs": [
    {
     "data": {
      "text/plain": [
       "array([[  0.        , 115.55560466,  98.42056273, ..., 219.99154627,\n",
       "        211.05230116, 209.93731429],\n",
       "       [115.55560466,   0.        ,  17.16908454, ..., 109.13584175,\n",
       "         99.71444676,  97.87829874],\n",
       "       [ 98.42056273,  17.16908454,   0.        , ..., 125.39285598,\n",
       "        116.04433726, 114.36831882],\n",
       "       ...,\n",
       "       [219.99154627, 109.13584175, 125.39285598, ...,   0.        ,\n",
       "          9.50844555,  12.22706283],\n",
       "       [211.05230116,  99.71444676, 116.04433726, ...,   9.50844555,\n",
       "          0.        ,   3.81635606],\n",
       "       [209.93731429,  97.87829874, 114.36831882, ...,  12.22706283,\n",
       "          3.81635606,   0.        ]])"
      ]
     },
     "execution_count": 37,
     "metadata": {},
     "output_type": "execute_result"
    }
   ],
   "source": [
    "## put into array\n",
    "distances = np.zeros([2743, 2743])\n",
    "with arcpy.da.SearchCursor(\"memory/ctu_distances\", [\"IN_FID\",\"NEAR_FID\",\"NEAR_DIST\"]) as cursor:\n",
    "    for row in cursor:\n",
    "        distances[codes_dict[row[0]-1],codes_dict[row[1]-1]] = row[2] # for some reason, the -1 is necessary to line it up. I'm not sure why it is off by one\n",
    "distances"
   ]
  }
 ],
 "metadata": {
  "kernelspec": {
   "display_name": "Python 3",
   "language": "python",
   "name": "python3"
  },
  "language_info": {
   "codemirror_mode": {
    "name": "ipython",
    "version": 3
   },
   "file_extension": ".py",
   "mimetype": "text/x-python",
   "name": "python",
   "nbconvert_exporter": "python",
   "pygments_lexer": "ipython3",
   "version": "3.9.18"
  }
 },
 "nbformat": 4,
 "nbformat_minor": 2
}
