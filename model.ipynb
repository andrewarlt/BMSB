{
 "cells": [
  {
   "cell_type": "markdown",
   "metadata": {},
   "source": [
    "The jupyter notebook contains the function to run the model with some error handling."
   ]
  },
  {
   "cell_type": "code",
   "execution_count": 6,
   "metadata": {},
   "outputs": [],
   "source": [
    "import numpy as np\n",
    "import copy"
   ]
  },
  {
   "cell_type": "code",
   "execution_count": null,
   "metadata": {},
   "outputs": [],
   "source": [
    "## function definition for single cycle of probability aggregation\n",
    "def prob_agg2(current, prob):\n",
    "   x = len(current)\n",
    "   transmit = np.multiply(prob, np.tile(np.atleast_2d(current).T, (1,x)))\n",
    "   current[:] = 1 - np.prod(1 - transmit, axis = 0) # P(A or B) = 1 - P(!A and !B)"
   ]
  },
  {
   "cell_type": "code",
   "execution_count": null,
   "metadata": {},
   "outputs": [],
   "source": [
    "## function for the entire model\n",
    "def model(presence, probabilities, num_cycles, print_flag=False):\n",
    "    # convert to numpy\n",
    "    presence = np.array(presence)\n",
    "    probabilities = np.array(probabilities)\n",
    "\n",
    "    # Error handling\n",
    "    if probabilities.shape[0] != probabilities.shape[1]:\n",
    "        return(\"ERROR: Probabilities Matrix not square\")\n",
    "    if presence.shape[0] != probabilities.shape[0]:\n",
    "        return(\"ERROR: Presence and Probabilities are not the same size\")\n",
    "    if np.max(probabilities) > 1 or np.max(probabilities) < 0:\n",
    "        return(\"ERROR: Invalid Probability value\")\n",
    "    if len(set(presence) - set([0,1])) > 0:\n",
    "        return(\"ERROR: Presence is not binary\")\n",
    "    if num_cycles < 1:\n",
    "        return(\"ERROR: Number of cycles cannot be less than 1\")\n",
    "\n",
    "    # fill diagonal\n",
    "    np.fill_diagonal(probabilities, 1)\n",
    "\n",
    "    # run model\n",
    "    current_state = copy.deepcopy(presence).astype(np.float64)\n",
    "    if print_flag:\n",
    "        print(presence) # intial\n",
    "\n",
    "    for i in range(num_cycles):\n",
    "        prob_agg2(current_state, probabilities)\n",
    "        if print_flag:\n",
    "            print(current_state) # print progress\n",
    "\n",
    "    return current_state"
   ]
  },
  {
   "cell_type": "code",
   "execution_count": null,
   "metadata": {},
   "outputs": [
    {
     "data": {
      "text/plain": [
       "array([1.        , 0.96262888, 0.96600515, 0.9576141 , 0.95806472,\n",
       "       0.95423378, 0.93379224, 0.96368667, 0.95491277, 0.94653311,\n",
       "       0.93253679, 0.96220644, 0.92583954, 0.96655675, 0.94926954,\n",
       "       0.88616971, 0.94703472, 0.96159022, 0.96778334, 0.94535874])"
      ]
     },
     "execution_count": 26,
     "metadata": {},
     "output_type": "execute_result"
    }
   ],
   "source": [
    "## Example Usage\n",
    "# intial presence of BMSB in each city\n",
    "bmsb_presence = np.array([1,0,0,0,0,0,0,0,0,0,0,0,0,0,0,0,0,0,0,0])\n",
    "\n",
    "# probability of transit between each city. Dimension 1 (rows) is origin. Dimension 2 (columns) is destination\n",
    "# generate random between 0 and 0.05\n",
    "probabilities = np.random.rand(20,20) / 50\n",
    "\n",
    "model(bmsb_presence, probabilities, 30)"
   ]
  }
 ],
 "metadata": {
  "kernelspec": {
   "display_name": "Python 3",
   "language": "python",
   "name": "python3"
  },
  "language_info": {
   "codemirror_mode": {
    "name": "ipython",
    "version": 3
   },
   "file_extension": ".py",
   "mimetype": "text/x-python",
   "name": "python",
   "nbconvert_exporter": "python",
   "pygments_lexer": "ipython3",
   "version": "3.9.18"
  }
 },
 "nbformat": 4,
 "nbformat_minor": 2
}
