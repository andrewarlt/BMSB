{
 "cells": [
  {
   "cell_type": "code",
   "execution_count": 2,
   "id": "aca17c9f-76dc-4777-aad5-6b2dcf1db58f",
   "metadata": {},
   "outputs": [],
   "source": [
    "import geopandas as gpd\n",
    "from sqlalchemy import create_engine\n",
    "import psycopg2"
   ]
  },
  {
   "cell_type": "code",
   "execution_count": 3,
   "id": "a273f75d-8f69-449e-a9c3-076df8541c7e",
   "metadata": {},
   "outputs": [],
   "source": [
    "#Change this to proper shapefile path\n",
    "shapefile_path = r'C:\\Users\\tjjoh\\OneDrive\\Desktop\\GIS 5572\\ctus_bmsb.shp'\n",
    "postgis_table_name = 'bmsb'"
   ]
  },
  {
   "cell_type": "code",
   "execution_count": 4,
   "id": "9c64e947-afba-4181-bcb1-798d90fbad2a",
   "metadata": {},
   "outputs": [],
   "source": [
    "#Read shapefile into geodataframe\n",
    "gdf = gpd.read_file(shapefile_path)"
   ]
  },
  {
   "cell_type": "code",
   "execution_count": 6,
   "id": "82b2a79a-f9af-4c51-ac10-2ae01530bb30",
   "metadata": {},
   "outputs": [
    {
     "name": "stdin",
     "output_type": "stream",
     "text": [
      "Username: username\n",
      "Password: password\n",
      "IP Address: ip\n"
     ]
    }
   ],
   "source": [
    "#Database information\n",
    "user = input('Username:')\n",
    "password = input('Password:')\n",
    "ip = input('IP Address:')"
   ]
  },
  {
   "cell_type": "code",
   "execution_count": null,
   "id": "c87192b2-573b-4726-8bc2-6e17b1799f98",
   "metadata": {},
   "outputs": [],
   "source": [
    "#connect to the database to enable PostGIS\n",
    "connection_string = f'postgresql://{user}:{password}@{ip}:5432/bmsb'\n",
    "engine = create_engine(connection_string)\n",
    "\n",
    "# Push the GeoDataFrame to PostGIS\n",
    "gdf.to_postgis(postgis_table_name, engine, if_exists = 'replace', index = False)\n",
    "\n",
    "print(f\"GeoDataFrame successfully pushed to the PostGIS table '{postgis_table_name}'.\")"
   ]
  }
 ],
 "metadata": {
  "kernelspec": {
   "display_name": "Python 3 (ipykernel)",
   "language": "python",
   "name": "python3"
  },
  "language_info": {
   "codemirror_mode": {
    "name": "ipython",
    "version": 3
   },
   "file_extension": ".py",
   "mimetype": "text/x-python",
   "name": "python",
   "nbconvert_exporter": "python",
   "pygments_lexer": "ipython3",
   "version": "3.8.20"
  }
 },
 "nbformat": 4,
 "nbformat_minor": 5
}
